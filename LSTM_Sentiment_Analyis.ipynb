{
  "cells": [
    {
      "cell_type": "markdown",
      "metadata": {
        "id": "d9tH8r3aqYT7"
      },
      "source": [
        "Christos Christidis\n",
        "\n",
        "Build a vocabulary based on text, then perform binary classification towards two labels positive/negative based on movie reviews taken from the IMDB database"
      ]
    },
    {
      "cell_type": "markdown",
      "metadata": {
        "id": "Un9HGvr1rDYv"
      },
      "source": [
        "# **Imports**"
      ]
    },
    {
      "cell_type": "code",
      "execution_count": null,
      "metadata": {
        "colab": {
          "base_uri": "https://localhost:8080/"
        },
        "id": "hQynUBKIwgcC",
        "outputId": "f9bdff4f-9dc4-49cd-f93e-039dafce3cd0"
      },
      "outputs": [],
      "source": [
        "# %pip install torchtext==0.6.0"
      ]
    },
    {
      "cell_type": "code",
      "execution_count": 1,
      "metadata": {
        "id": "6EohX_9zw8wO"
      },
      "outputs": [],
      "source": [
        "import torchtext"
      ]
    },
    {
      "cell_type": "code",
      "execution_count": null,
      "metadata": {},
      "outputs": [],
      "source": [
        "# %pip install torch==2.3.0+cu121 -f https://download.pytorch.org/whl/torch_stable.html"
      ]
    },
    {
      "cell_type": "code",
      "execution_count": 8,
      "metadata": {},
      "outputs": [],
      "source": [
        "import torch\n",
        "import torch.nn as nn\n",
        "import torch.nn.functional as F\n",
        "import time\n",
        "import random\n",
        "import pandas as pd\n",
        "import os"
      ]
    },
    {
      "cell_type": "code",
      "execution_count": 33,
      "metadata": {},
      "outputs": [],
      "source": [
        "import sklearn\n",
        "from sklearn.metrics import confusion_matrix\n",
        "import numpy as np"
      ]
    },
    {
      "cell_type": "code",
      "execution_count": null,
      "metadata": {},
      "outputs": [],
      "source": [
        "#%pip install spacy"
      ]
    },
    {
      "cell_type": "code",
      "execution_count": 3,
      "metadata": {},
      "outputs": [],
      "source": [
        "import spacy"
      ]
    },
    {
      "cell_type": "code",
      "execution_count": 4,
      "metadata": {},
      "outputs": [
        {
          "name": "stdout",
          "output_type": "stream",
          "text": [
            "2.3.0+cu121\n"
          ]
        }
      ],
      "source": [
        "print(torch.__version__)"
      ]
    },
    {
      "cell_type": "code",
      "execution_count": 5,
      "metadata": {
        "id": "HG_VT0dwqJFI"
      },
      "outputs": [],
      "source": [
        "torch.backends.cudnn.deterministic = True"
      ]
    },
    {
      "cell_type": "markdown",
      "metadata": {},
      "source": [
        "Settings"
      ]
    },
    {
      "cell_type": "code",
      "execution_count": 10,
      "metadata": {
        "id": "luuXq1d5tKGf"
      },
      "outputs": [],
      "source": [
        "path = '/Sentiment Analysis'"
      ]
    },
    {
      "cell_type": "code",
      "execution_count": 6,
      "metadata": {
        "id": "vQcYpxd3rP8V"
      },
      "outputs": [],
      "source": [
        "random_state = 1000\n",
        "torch.manual_seed(random_state)\n",
        "\n",
        "VOCABULARY_SIZE = 20000 # Vocabulary of 20k most used words, to avoid future overfitting\n",
        "LEARNING_RATE = 0.005\n",
        "BATCH_SIZE = 128\n",
        "NUM_EPOCHS = 15\n",
        "DEVICE = torch.device('cuda' if torch.cuda.is_available() else 'cpu')\n",
        "\n",
        "EMBEDDING_DIM = 128\n",
        "HIDDEN_DIM = 256\n",
        "NUM_CLASSES = 2"
      ]
    },
    {
      "cell_type": "code",
      "execution_count": 7,
      "metadata": {
        "colab": {
          "base_uri": "https://localhost:8080/"
        },
        "id": "iuUU5XJY04kj",
        "outputId": "ee744180-3ebf-4cdd-d01b-2563e8966e2b"
      },
      "outputs": [
        {
          "data": {
            "text/plain": [
              "device(type='cuda')"
            ]
          },
          "execution_count": 7,
          "metadata": {},
          "output_type": "execute_result"
        }
      ],
      "source": [
        "DEVICE"
      ]
    },
    {
      "cell_type": "markdown",
      "metadata": {
        "id": "-Hd3HWCss-mI"
      },
      "source": [
        "# **Preparing Data**"
      ]
    },
    {
      "cell_type": "markdown",
      "metadata": {},
      "source": [
        "Loading the dataset"
      ]
    },
    {
      "cell_type": "code",
      "execution_count": null,
      "metadata": {
        "id": "vTliO3JWr8eB"
      },
      "outputs": [],
      "source": [
        "!wget https://github.com/rasbt/python-machine-learning-book-3rd-edition/raw/master/ch08/movie_data.csv.gz\n",
        "!gunzip -f movie_data.csv.gz"
      ]
    },
    {
      "cell_type": "code",
      "execution_count": null,
      "metadata": {
        "colab": {
          "base_uri": "https://localhost:8080/"
        },
        "id": "iuUU5XJY04kj",
        "outputId": "ee744180-3ebf-4cdd-d01b-2563e8966e2b"
      },
      "outputs": [
        {
          "data": {
            "application/vnd.google.colaboratory.intrinsic+json": {
              "summary": "{\n  \"name\": \"df\",\n  \"rows\": 50000,\n  \"fields\": [\n    {\n      \"column\": \"review\",\n      \"properties\": {\n        \"dtype\": \"string\",\n        \"num_unique_values\": 49582,\n        \"samples\": [\n          \"Every time I think about this film I feel physically ill. To read such a great book and later discover there's a film of it was a great feeling. Years later and imagine my joy at switching on the sci-fi channel and finding it starts in just 5mins!!! Up go the titles and then uggg. If just a couple of things had changed OK. Everything is changed. Numerous characters are removed entirely new rubbish ones are added. The main hero is shrunk and de-aged by about 30 years, and hilariously his girlfriend/wife is now his mother! Even the dog is reduced to sub-lassie capabilities. This is truly appalling cinema at its absolute worst. I would quite happily remove my own toenails with pliers rather than sit through another horrific viewing, and I urge anyone thinking of watching this - please don't. If you own a copy burn it now, right now and think how much better your life would have been had this celluloid insult never occurred.\",\n          \"As with all environmentally aware films from the 1970s SOYLENT GREEN has a rather cheesy view of what ecological meltdown is . Overpopulation means there`s too many people to feed ? I was under the impression that famines were caused by either war or failed economic policies . Stalin`s policy in the Soviet Union in the 1930s left millions dead because of famine and to this day the greatest man made tragedy was Mao`s rural policy in China which led over 30 million starvation deaths in the 1950s . And let`s not forget the great famines in the horn of Africa in the 1980s and 90s which were to do with conflicts not overpopulation . You might like to also consider that two of the most heavily populated areas on Earth , Hong Kong and Macau , have never suffered a famine in modern times . Likewise the expansion of shanty towns around cities as seen here isn`t strictly down to overpopulation - it`s down to economic factors where people flock to cities to find better paid work than in the countryside ( It`s a symptom of industrial progress - not of too many births ) so the image of the streets of New York city being too congested to walk through and of having people sleep in stairwells is somewhat laughable<br /><br />But don`t be fooled into thinking SOYLENT GREEN is a pile of corny tree hugging crap because I consider this to be the best ecological film of the<br /><br />70s . It plays on the contempary audience`s knowledge of the world where Sol and Thorn are beside themselves with joy at finding fruit , brandy and fresh meat . Thorn gasps in amazement at having ice in his whisky , puffs on a cigarette and delivers the classic line \\\" If I could afford it I`d smoke two , maybe three of these a day \\\" . But it`s the visage of the euthanasia chamber that`s memorable as Thorn gazes at the images of wild animals , flowers , running water and snow covered mountains , a world Thorn`s generation has never known . This is a very haunting scene which makes SOYLENT GREEN a very memorable film , combined with the fact it features the final screen appearance of Edward G Robinson as the wise old Jew Sol Roth\",\n          \"Yah. I know. It has the name \\\"Sinatra\\\" in the title, so how bad can it be? Well, it's bad, trust me! I rented this thinking it was some movie I missed in the theaters. It's not. It's some garbage \\\"movie\\\" made by the folks at Showtime (cable station). Geez, these cable stations make a few bucks they think they can make whatever garbage movies they want! It's not good. I am as big a Sinatra fan as any sane man, but this movie was just dumb. Boring. Dull. Unfunny. Uninteresting. The only redeeming quality is that (assuming they did stick to the facts) you do learn about what happened to the captors of Frank Jr. Otherwise it's just a stupid film.\"\n        ],\n        \"semantic_type\": \"\",\n        \"description\": \"\"\n      }\n    },\n    {\n      \"column\": \"sentiment\",\n      \"properties\": {\n        \"dtype\": \"number\",\n        \"std\": 0,\n        \"min\": 0,\n        \"max\": 1,\n        \"num_unique_values\": 2,\n        \"samples\": [\n          0,\n          1\n        ],\n        \"semantic_type\": \"\",\n        \"description\": \"\"\n      }\n    }\n  ]\n}",
              "type": "dataframe",
              "variable_name": "df"
            },
            "text/html": [
              "\n",
              "  <div id=\"df-2e97ca1f-05e3-4ed3-91ce-f757a90a9252\" class=\"colab-df-container\">\n",
              "    <div>\n",
              "<style scoped>\n",
              "    .dataframe tbody tr th:only-of-type {\n",
              "        vertical-align: middle;\n",
              "    }\n",
              "\n",
              "    .dataframe tbody tr th {\n",
              "        vertical-align: top;\n",
              "    }\n",
              "\n",
              "    .dataframe thead th {\n",
              "        text-align: right;\n",
              "    }\n",
              "</style>\n",
              "<table border=\"1\" class=\"dataframe\">\n",
              "  <thead>\n",
              "    <tr style=\"text-align: right;\">\n",
              "      <th></th>\n",
              "      <th>review</th>\n",
              "      <th>sentiment</th>\n",
              "    </tr>\n",
              "  </thead>\n",
              "  <tbody>\n",
              "    <tr>\n",
              "      <th>0</th>\n",
              "      <td>In 1974, the teenager Martha Moxley (Maggie Gr...</td>\n",
              "      <td>1</td>\n",
              "    </tr>\n",
              "    <tr>\n",
              "      <th>1</th>\n",
              "      <td>OK... so... I really like Kris Kristofferson a...</td>\n",
              "      <td>0</td>\n",
              "    </tr>\n",
              "    <tr>\n",
              "      <th>2</th>\n",
              "      <td>***SPOILER*** Do not read this, if you think a...</td>\n",
              "      <td>0</td>\n",
              "    </tr>\n",
              "    <tr>\n",
              "      <th>3</th>\n",
              "      <td>hi for all the people who have seen this wonde...</td>\n",
              "      <td>1</td>\n",
              "    </tr>\n",
              "    <tr>\n",
              "      <th>4</th>\n",
              "      <td>I recently bought the DVD, forgetting just how...</td>\n",
              "      <td>0</td>\n",
              "    </tr>\n",
              "  </tbody>\n",
              "</table>\n",
              "</div>\n",
              "    <div class=\"colab-df-buttons\">\n",
              "\n",
              "  <div class=\"colab-df-container\">\n",
              "    <button class=\"colab-df-convert\" onclick=\"convertToInteractive('df-2e97ca1f-05e3-4ed3-91ce-f757a90a9252')\"\n",
              "            title=\"Convert this dataframe to an interactive table.\"\n",
              "            style=\"display:none;\">\n",
              "\n",
              "  <svg xmlns=\"http://www.w3.org/2000/svg\" height=\"24px\" viewBox=\"0 -960 960 960\">\n",
              "    <path d=\"M120-120v-720h720v720H120Zm60-500h600v-160H180v160Zm220 220h160v-160H400v160Zm0 220h160v-160H400v160ZM180-400h160v-160H180v160Zm440 0h160v-160H620v160ZM180-180h160v-160H180v160Zm440 0h160v-160H620v160Z\"/>\n",
              "  </svg>\n",
              "    </button>\n",
              "\n",
              "  <style>\n",
              "    .colab-df-container {\n",
              "      display:flex;\n",
              "      gap: 12px;\n",
              "    }\n",
              "\n",
              "    .colab-df-convert {\n",
              "      background-color: #E8F0FE;\n",
              "      border: none;\n",
              "      border-radius: 50%;\n",
              "      cursor: pointer;\n",
              "      display: none;\n",
              "      fill: #1967D2;\n",
              "      height: 32px;\n",
              "      padding: 0 0 0 0;\n",
              "      width: 32px;\n",
              "    }\n",
              "\n",
              "    .colab-df-convert:hover {\n",
              "      background-color: #E2EBFA;\n",
              "      box-shadow: 0px 1px 2px rgba(60, 64, 67, 0.3), 0px 1px 3px 1px rgba(60, 64, 67, 0.15);\n",
              "      fill: #174EA6;\n",
              "    }\n",
              "\n",
              "    .colab-df-buttons div {\n",
              "      margin-bottom: 4px;\n",
              "    }\n",
              "\n",
              "    [theme=dark] .colab-df-convert {\n",
              "      background-color: #3B4455;\n",
              "      fill: #D2E3FC;\n",
              "    }\n",
              "\n",
              "    [theme=dark] .colab-df-convert:hover {\n",
              "      background-color: #434B5C;\n",
              "      box-shadow: 0px 1px 3px 1px rgba(0, 0, 0, 0.15);\n",
              "      filter: drop-shadow(0px 1px 2px rgba(0, 0, 0, 0.3));\n",
              "      fill: #FFFFFF;\n",
              "    }\n",
              "  </style>\n",
              "\n",
              "    <script>\n",
              "      const buttonEl =\n",
              "        document.querySelector('#df-2e97ca1f-05e3-4ed3-91ce-f757a90a9252 button.colab-df-convert');\n",
              "      buttonEl.style.display =\n",
              "        google.colab.kernel.accessAllowed ? 'block' : 'none';\n",
              "\n",
              "      async function convertToInteractive(key) {\n",
              "        const element = document.querySelector('#df-2e97ca1f-05e3-4ed3-91ce-f757a90a9252');\n",
              "        const dataTable =\n",
              "          await google.colab.kernel.invokeFunction('convertToInteractive',\n",
              "                                                    [key], {});\n",
              "        if (!dataTable) return;\n",
              "\n",
              "        const docLinkHtml = 'Like what you see? Visit the ' +\n",
              "          '<a target=\"_blank\" href=https://colab.research.google.com/notebooks/data_table.ipynb>data table notebook</a>'\n",
              "          + ' to learn more about interactive tables.';\n",
              "        element.innerHTML = '';\n",
              "        dataTable['output_type'] = 'display_data';\n",
              "        await google.colab.output.renderOutput(dataTable, element);\n",
              "        const docLink = document.createElement('div');\n",
              "        docLink.innerHTML = docLinkHtml;\n",
              "        element.appendChild(docLink);\n",
              "      }\n",
              "    </script>\n",
              "  </div>\n",
              "\n",
              "\n",
              "<div id=\"df-dae11fdf-b997-423e-9628-2a1bcb766cdb\">\n",
              "  <button class=\"colab-df-quickchart\" onclick=\"quickchart('df-dae11fdf-b997-423e-9628-2a1bcb766cdb')\"\n",
              "            title=\"Suggest charts\"\n",
              "            style=\"display:none;\">\n",
              "\n",
              "<svg xmlns=\"http://www.w3.org/2000/svg\" height=\"24px\"viewBox=\"0 0 24 24\"\n",
              "     width=\"24px\">\n",
              "    <g>\n",
              "        <path d=\"M19 3H5c-1.1 0-2 .9-2 2v14c0 1.1.9 2 2 2h14c1.1 0 2-.9 2-2V5c0-1.1-.9-2-2-2zM9 17H7v-7h2v7zm4 0h-2V7h2v10zm4 0h-2v-4h2v4z\"/>\n",
              "    </g>\n",
              "</svg>\n",
              "  </button>\n",
              "\n",
              "<style>\n",
              "  .colab-df-quickchart {\n",
              "      --bg-color: #E8F0FE;\n",
              "      --fill-color: #1967D2;\n",
              "      --hover-bg-color: #E2EBFA;\n",
              "      --hover-fill-color: #174EA6;\n",
              "      --disabled-fill-color: #AAA;\n",
              "      --disabled-bg-color: #DDD;\n",
              "  }\n",
              "\n",
              "  [theme=dark] .colab-df-quickchart {\n",
              "      --bg-color: #3B4455;\n",
              "      --fill-color: #D2E3FC;\n",
              "      --hover-bg-color: #434B5C;\n",
              "      --hover-fill-color: #FFFFFF;\n",
              "      --disabled-bg-color: #3B4455;\n",
              "      --disabled-fill-color: #666;\n",
              "  }\n",
              "\n",
              "  .colab-df-quickchart {\n",
              "    background-color: var(--bg-color);\n",
              "    border: none;\n",
              "    border-radius: 50%;\n",
              "    cursor: pointer;\n",
              "    display: none;\n",
              "    fill: var(--fill-color);\n",
              "    height: 32px;\n",
              "    padding: 0;\n",
              "    width: 32px;\n",
              "  }\n",
              "\n",
              "  .colab-df-quickchart:hover {\n",
              "    background-color: var(--hover-bg-color);\n",
              "    box-shadow: 0 1px 2px rgba(60, 64, 67, 0.3), 0 1px 3px 1px rgba(60, 64, 67, 0.15);\n",
              "    fill: var(--button-hover-fill-color);\n",
              "  }\n",
              "\n",
              "  .colab-df-quickchart-complete:disabled,\n",
              "  .colab-df-quickchart-complete:disabled:hover {\n",
              "    background-color: var(--disabled-bg-color);\n",
              "    fill: var(--disabled-fill-color);\n",
              "    box-shadow: none;\n",
              "  }\n",
              "\n",
              "  .colab-df-spinner {\n",
              "    border: 2px solid var(--fill-color);\n",
              "    border-color: transparent;\n",
              "    border-bottom-color: var(--fill-color);\n",
              "    animation:\n",
              "      spin 1s steps(1) infinite;\n",
              "  }\n",
              "\n",
              "  @keyframes spin {\n",
              "    0% {\n",
              "      border-color: transparent;\n",
              "      border-bottom-color: var(--fill-color);\n",
              "      border-left-color: var(--fill-color);\n",
              "    }\n",
              "    20% {\n",
              "      border-color: transparent;\n",
              "      border-left-color: var(--fill-color);\n",
              "      border-top-color: var(--fill-color);\n",
              "    }\n",
              "    30% {\n",
              "      border-color: transparent;\n",
              "      border-left-color: var(--fill-color);\n",
              "      border-top-color: var(--fill-color);\n",
              "      border-right-color: var(--fill-color);\n",
              "    }\n",
              "    40% {\n",
              "      border-color: transparent;\n",
              "      border-right-color: var(--fill-color);\n",
              "      border-top-color: var(--fill-color);\n",
              "    }\n",
              "    60% {\n",
              "      border-color: transparent;\n",
              "      border-right-color: var(--fill-color);\n",
              "    }\n",
              "    80% {\n",
              "      border-color: transparent;\n",
              "      border-right-color: var(--fill-color);\n",
              "      border-bottom-color: var(--fill-color);\n",
              "    }\n",
              "    90% {\n",
              "      border-color: transparent;\n",
              "      border-bottom-color: var(--fill-color);\n",
              "    }\n",
              "  }\n",
              "</style>\n",
              "\n",
              "  <script>\n",
              "    async function quickchart(key) {\n",
              "      const quickchartButtonEl =\n",
              "        document.querySelector('#' + key + ' button');\n",
              "      quickchartButtonEl.disabled = true;  // To prevent multiple clicks.\n",
              "      quickchartButtonEl.classList.add('colab-df-spinner');\n",
              "      try {\n",
              "        const charts = await google.colab.kernel.invokeFunction(\n",
              "            'suggestCharts', [key], {});\n",
              "      } catch (error) {\n",
              "        console.error('Error during call to suggestCharts:', error);\n",
              "      }\n",
              "      quickchartButtonEl.classList.remove('colab-df-spinner');\n",
              "      quickchartButtonEl.classList.add('colab-df-quickchart-complete');\n",
              "    }\n",
              "    (() => {\n",
              "      let quickchartButtonEl =\n",
              "        document.querySelector('#df-dae11fdf-b997-423e-9628-2a1bcb766cdb button');\n",
              "      quickchartButtonEl.style.display =\n",
              "        google.colab.kernel.accessAllowed ? 'block' : 'none';\n",
              "    })();\n",
              "  </script>\n",
              "</div>\n",
              "    </div>\n",
              "  </div>\n"
            ],
            "text/plain": [
              "                                              review  sentiment\n",
              "0  In 1974, the teenager Martha Moxley (Maggie Gr...          1\n",
              "1  OK... so... I really like Kris Kristofferson a...          0\n",
              "2  ***SPOILER*** Do not read this, if you think a...          0\n",
              "3  hi for all the people who have seen this wonde...          1\n",
              "4  I recently bought the DVD, forgetting just how...          0"
            ]
          },
          "execution_count": 9,
          "metadata": {},
          "output_type": "execute_result"
        }
      ],
      "source": [
        "df = pd.read_csv('movie_data.csv')\n",
        "df.head()"
      ]
    },
    {
      "cell_type": "markdown",
      "metadata": {
        "id": "UTZDeQuAtQun"
      },
      "source": [
        "Use Spacy tokenizer since white space default tokenizing might not be as robust"
      ]
    },
    {
      "cell_type": "code",
      "execution_count": null,
      "metadata": {
        "id": "ptuvBHRWtA8Z"
      },
      "outputs": [],
      "source": [
        "# Features\n",
        "TEXT = torchtext.data.Field(\n",
        "    tokenize='spacy', # default splits on whitespace\n",
        "    tokenizer_language='en_core_web_sm'\n",
        ")\n",
        "\n",
        "# Labels\n",
        "LABEL = torchtext.data.LabelField(dtype=torch.long)"
      ]
    },
    {
      "cell_type": "code",
      "execution_count": null,
      "metadata": {
        "id": "60yrIS4sSFX-"
      },
      "outputs": [],
      "source": [
        "fields = [('review', TEXT), ('sentiment', LABEL)]"
      ]
    },
    {
      "cell_type": "code",
      "execution_count": null,
      "metadata": {
        "id": "x-o_JsRFxYFq"
      },
      "outputs": [],
      "source": [
        "data = torchtext.data.TabularDataset(path = 'movie_data.csv', format = 'csv',\n",
        "                                     skip_header = True, fields = fields)"
      ]
    },
    {
      "cell_type": "code",
      "execution_count": null,
      "metadata": {
        "id": "aRm1Jnovyea8"
      },
      "outputs": [],
      "source": [
        "# Splitting dataset\n",
        "\n",
        "train, validation, test = data.split(split_ratio = [0.6, 0.2, 0.2],\n",
        "                                     random_state = random.seed(random_state))"
      ]
    },
    {
      "cell_type": "code",
      "execution_count": null,
      "metadata": {
        "colab": {
          "base_uri": "https://localhost:8080/"
        },
        "id": "K654Ug6_zXWE",
        "outputId": "df070ef2-78eb-4a8d-830d-2b4a295a9d5c"
      },
      "outputs": [
        {
          "name": "stdout",
          "output_type": "stream",
          "text": [
            "Total examples:  50000\n",
            "Training examples:  30000\n",
            "Validation examples:  10000\n",
            "Test examples:  10000\n"
          ]
        }
      ],
      "source": [
        "print('Total examples: ', len(train) + len(validation) + len(test))\n",
        "print('Training examples: ', len(train))\n",
        "print('Validation examples: ', len(validation))\n",
        "print('Test examples: ', len(test))"
      ]
    },
    {
      "cell_type": "markdown",
      "metadata": {
        "id": "T71ClBPx0ljq"
      },
      "source": [
        "Training example"
      ]
    },
    {
      "cell_type": "code",
      "execution_count": null,
      "metadata": {
        "colab": {
          "base_uri": "https://localhost:8080/"
        },
        "id": "0DJqHEIRz_PO",
        "outputId": "abe484a3-3bac-47c5-ca38-d32d8171daa9"
      },
      "outputs": [
        {
          "name": "stdout",
          "output_type": "stream",
          "text": [
            "{'review': ['This', 'film', 'is', 'so', 'lovingly', 'made', 'you', 'want', 'to', 'be', 'part', 'of', 'it', 'forever', '.', 'The', 'flics', 'are', 'straight', 'but', 'not', 'without', 'malice', ',', 'the', 'goods', 'are', 'transparent', 'and', 'evildoers', 'are', 'hardly', 'there', '.', 'Even', 'the', '\"', 'cabaret', '\"', 'are', 'so', 'naive', 'they', \"'ll\", 'make', 'you', 'daydream', 'with', 'nostalgia', 'in', 'comparison', 'to', 'anything', 'available', 'on', 'TV', '.', 'Blier', 'is', 'fine', ',', 'if', 'a', 'bit', 'one', 'sided', '.', 'Louis', 'Jouvet', 'is', 'perfect', ',', 'you', 'just', 'ca', \"n't\", 'have', 'a', 'better', 'copper', '.', 'He', 'has', 'the', 'best', 'line', ':', '\"', 'My', 'dad', 'cleaned', 'other', 'people', \"'s\", 'dirt', ',', 'and', 'I', 'do', 'the', 'same', '\"', '.', 'Susy', 'Delair', 'is', 'unbearable', ',', 'but', 'I', 'guess', 'in', 'part', 'it', \"'s\", 'the', 'songs', ',', 'wardrobe', 'and', 'hairdo', '.', 'Simone', 'Renant', ',', 'on', 'the', 'contrary', ',', 'makes', 'a', 'great', 'femme', 'fatale', ',', 'if', 'a', 'bit', 'silent', '.', 'I', 'did', \"n't\", 'realize', 'she', 'may', 'be', 'a', 'lesbian', 'as', 'IMDb', 'user', 'dbdumonteil', 'and', 'others', 'rightly', 'suggest', '.'], 'sentiment': '1'}\n"
          ]
        }
      ],
      "source": [
        "print(vars(train.examples[0]))"
      ]
    },
    {
      "cell_type": "markdown",
      "metadata": {
        "id": "gYN9Xhv70sji"
      },
      "source": [
        "**Building tokens**"
      ]
    },
    {
      "cell_type": "code",
      "execution_count": null,
      "metadata": {
        "id": "tPu6_K8h0nyK"
      },
      "outputs": [],
      "source": [
        "TEXT.build_vocab(train, max_size = VOCABULARY_SIZE)\n",
        "LABEL.build_vocab(train)"
      ]
    },
    {
      "cell_type": "markdown",
      "metadata": {
        "id": "TspmgeuF1OV8"
      },
      "source": [
        "20000 words + uknown + pad tokens"
      ]
    },
    {
      "cell_type": "code",
      "execution_count": null,
      "metadata": {
        "colab": {
          "base_uri": "https://localhost:8080/"
        },
        "id": "Pp35c7q61Dne",
        "outputId": "c5886ec1-4f5e-47ad-9d95-230879ad96da"
      },
      "outputs": [
        {
          "data": {
            "text/plain": [
              "20002"
            ]
          },
          "execution_count": 16,
          "metadata": {},
          "output_type": "execute_result"
        }
      ],
      "source": [
        "len(TEXT.vocab)"
      ]
    },
    {
      "cell_type": "markdown",
      "metadata": {
        "id": "cVuiWgG41ydB"
      },
      "source": [
        "20 most frequently used words"
      ]
    },
    {
      "cell_type": "code",
      "execution_count": null,
      "metadata": {
        "colab": {
          "base_uri": "https://localhost:8080/"
        },
        "id": "wZr8jv0r1c6R",
        "outputId": "55cc68c6-2108-4991-a79f-941bcd7e9b38"
      },
      "outputs": [
        {
          "data": {
            "text/plain": [
              "[('the', 345270),\n",
              " (',', 328225),\n",
              " ('.', 281427),\n",
              " ('and', 186348),\n",
              " ('a', 186145),\n",
              " ('of', 171732),\n",
              " ('to', 158673),\n",
              " ('is', 129156),\n",
              " ('in', 104865),\n",
              " ('I', 93555),\n",
              " ('it', 91398),\n",
              " ('that', 83253),\n",
              " ('\"', 76151),\n",
              " (\"'s\", 73368),\n",
              " ('this', 72269),\n",
              " ('-', 63389),\n",
              " ('/><br', 60500),\n",
              " ('was', 59655),\n",
              " ('movie', 51293),\n",
              " ('as', 51019)]"
            ]
          },
          "execution_count": 17,
          "metadata": {},
          "output_type": "execute_result"
        }
      ],
      "source": [
        "TEXT.vocab.freqs.most_common(20)"
      ]
    },
    {
      "cell_type": "code",
      "execution_count": null,
      "metadata": {
        "colab": {
          "base_uri": "https://localhost:8080/"
        },
        "id": "GIni1O-L2LRv",
        "outputId": "280d6888-c984-475d-865f-531750f9738f"
      },
      "outputs": [
        {
          "data": {
            "text/plain": [
              "Counter({'1': 14988, '0': 15012})"
            ]
          },
          "execution_count": 18,
          "metadata": {},
          "output_type": "execute_result"
        }
      ],
      "source": [
        "LABEL.vocab.freqs"
      ]
    },
    {
      "cell_type": "markdown",
      "metadata": {
        "id": "N2JCte132N0p"
      },
      "source": [
        "Classes are balanced, no need to handle class imbalance"
      ]
    },
    {
      "cell_type": "code",
      "execution_count": null,
      "metadata": {
        "colab": {
          "base_uri": "https://localhost:8080/"
        },
        "id": "uUWgNOh62SHV",
        "outputId": "e7db7e91-0c67-4f66-cfb2-cac7dfeb73f7"
      },
      "outputs": [
        {
          "data": {
            "text/plain": [
              "defaultdict(None, {'0': 0, '1': 1})"
            ]
          },
          "execution_count": 19,
          "metadata": {},
          "output_type": "execute_result"
        }
      ],
      "source": [
        "LABEL.vocab.stoi"
      ]
    },
    {
      "cell_type": "markdown",
      "metadata": {
        "id": "UFPEfAJs26GV"
      },
      "source": [
        "**Data Loaders**"
      ]
    },
    {
      "cell_type": "code",
      "execution_count": null,
      "metadata": {
        "id": "3T-LpgIT5GYi"
      },
      "outputs": [],
      "source": [
        "train_loader, validation_loader, test_loader = torchtext.data.BucketIterator.splits(\n",
        "    (train, validation, test), batch_size = BATCH_SIZE, sort_within_batch = False,\n",
        "    sort_key = lambda x: len(x.review), device = DEVICE\n",
        ")"
      ]
    },
    {
      "cell_type": "markdown",
      "metadata": {
        "id": "43jj5sdO6g5a"
      },
      "source": [
        "# **Model**"
      ]
    },
    {
      "cell_type": "markdown",
      "metadata": {
        "id": "lOJeOrxlr5Ml"
      },
      "source": [
        "* TODO: Modularize it. E.g. dictionary for the dims and then hidden = [torch.nn.LSTM, torch.nn.RNN] and make it as self.rnn = hidden[0]/hidden[1]\n",
        "* Try different optimizer\n",
        "\n"
      ]
    },
    {
      "cell_type": "code",
      "execution_count": 16,
      "metadata": {
        "id": "2mRD_1jx6i7T"
      },
      "outputs": [],
      "source": [
        "class RNN(torch.nn.Module):\n",
        "\n",
        "  def __init__(self, input_dim, embedding_dim, hidden_dim, output_dim):\n",
        "    super().__init__()\n",
        "    self.embedding = torch.nn.Embedding(input_dim, embedding_dim) # Converts the words into the real value vectors\n",
        "    self.rnn = torch.nn.LSTM(embedding_dim, hidden_dim) # The lstm takes in the embeddings and produces the hidden activations\n",
        "    self.fc = torch.nn.Linear(hidden_dim, output_dim) # Classification layer\n",
        "\n",
        "  def forward(self, text):\n",
        "    # text dim: [sentence length, batch size]\n",
        "    embedded = self.embedding(text)\n",
        "    # embedded dim: [sentence length, batch size, embedding dim]\n",
        "    output, (hidden, cell) = self.rnn(embedded) # Outputs the y but also the hidden state for the next layer\n",
        "    # output dim: [sentence length, batch size, hidden dim]\n",
        "    # hidden dim: [1, batch size, hidden dim]\n",
        "\n",
        "    hidden.squeeze_(0) # Removing the first dimension from the fc layer for compatibility\n",
        "    # hidden dim: [batch size, hidden dim]\n",
        "\n",
        "    output = self.fc(hidden) # The final output is the hidden state of the last cell that goes through a fully connected layer\n",
        "\n",
        "    return output"
      ]
    },
    {
      "cell_type": "code",
      "execution_count": null,
      "metadata": {
        "id": "E4KclYrzt6fI"
      },
      "outputs": [],
      "source": [
        "torch.manual_seed(random_state)\n",
        "\n",
        "model = RNN(input_dim = len(TEXT.vocab), embedding_dim = EMBEDDING_DIM,\n",
        "            hidden_dim = HIDDEN_DIM, output_dim = NUM_CLASSES)\n",
        "model = model.to(DEVICE)\n",
        "optimizer = torch.optim.Adam(model.parameters(), lr = LEARNING_RATE)"
      ]
    },
    {
      "cell_type": "markdown",
      "metadata": {
        "id": "RRp-HKs7wCoR"
      },
      "source": [
        "# **Training**"
      ]
    },
    {
      "cell_type": "code",
      "execution_count": 13,
      "metadata": {
        "id": "Fqnv6jTuwJFu"
      },
      "outputs": [],
      "source": [
        "def compute_accuracy(model, data_loader, device):\n",
        "\n",
        "  with torch.no_grad():\n",
        "    correct_pred, num_examples = 0, 0\n",
        "\n",
        "    for i, (features, targets) in enumerate(data_loader):\n",
        "      features = features.to(device)\n",
        "      targets = targets.float().to(device)\n",
        "\n",
        "      logits = model(features)\n",
        "      _, predicted_labels = torch.max(logits, 1)\n",
        "\n",
        "      num_examples += targets.size(0)\n",
        "      correct_pred += (predicted_labels==targets).sum()\n",
        "  return correct_pred.float()/num_examples * 100"
      ]
    },
    {
      "cell_type": "code",
      "execution_count": 15,
      "metadata": {
        "id": "lCHiDeZuxkx0"
      },
      "outputs": [],
      "source": [
        "def trainer(model, NUM_EPOCHS, DEVICE, train_loader, validation_loader,\n",
        "            test_loader, optimizer):\n",
        "  start_time = time.time()\n",
        "\n",
        "  for epoch in range(NUM_EPOCHS):\n",
        "      model.train()\n",
        "      for batch_idx, batch_data in enumerate(train_loader):\n",
        "\n",
        "          text = batch_data.review.to(DEVICE)\n",
        "          labels = batch_data.sentiment.to(DEVICE)\n",
        "\n",
        "          ### FORWARD AND BACK PROP\n",
        "          logits = model(text)\n",
        "          loss = F.cross_entropy(logits, labels)\n",
        "          optimizer.zero_grad()\n",
        "\n",
        "          loss.backward()\n",
        "\n",
        "          ### UPDATE MODEL PARAMETERS\n",
        "          optimizer.step()\n",
        "\n",
        "          ### LOGGING\n",
        "          if not batch_idx % 50:\n",
        "              print (f'Epoch: {epoch+1:03d}/{NUM_EPOCHS:03d} | '\n",
        "                    f'Batch {batch_idx:03d}/{len(train_loader):03d} | '\n",
        "                    f'Loss: {loss:.4f}')\n",
        "\n",
        "      with torch.set_grad_enabled(False):\n",
        "          print(f'Training accuracy: '\n",
        "                f'{compute_accuracy(model, train_loader, DEVICE):.2f}%'\n",
        "                f'\\nValidation accuracy: '\n",
        "                f'{compute_accuracy(model, validation_loader, DEVICE):.2f}%')\n",
        "\n",
        "      print(f'Time elapsed: {(time.time() - start_time)/60:.2f} min')\n",
        "\n",
        "  print(f'Total Training Time: {(time.time() - start_time)/60:.2f} min')\n",
        "  print(f'Test accuracy: {compute_accuracy(model, test_loader, DEVICE):.2f}%')"
      ]
    },
    {
      "cell_type": "code",
      "execution_count": null,
      "metadata": {
        "id": "LkIR9bkWFcFJ"
      },
      "outputs": [],
      "source": [
        "trainer(model, NUM_EPOCHS, DEVICE, train_loader, validation_loader, test_loader,\n",
        "        optimizer)"
      ]
    },
    {
      "cell_type": "markdown",
      "metadata": {
        "id": "o-evlezpr4mN"
      },
      "source": [
        "**Saving the model**"
      ]
    },
    {
      "cell_type": "code",
      "execution_count": null,
      "metadata": {
        "colab": {
          "base_uri": "https://localhost:8080/"
        },
        "id": "MbvjlNhqr4WJ",
        "outputId": "4eb25a23-d67f-4490-de81-d7198a7ff71a"
      },
      "outputs": [
        {
          "name": "stdout",
          "output_type": "stream",
          "text": [
            "Model saved successfully.\n"
          ]
        }
      ],
      "source": [
        "file_path = 'SentimentAnalysisLSTM.pth'\n",
        "torch.save(model.state_dict(), file_path)\n",
        "print(\"Model saved successfully.\")"
      ]
    },
    {
      "cell_type": "markdown",
      "metadata": {
        "id": "pbsKkjGc56Hd"
      },
      "source": [
        "# **Prediction**"
      ]
    },
    {
      "cell_type": "code",
      "execution_count": 30,
      "metadata": {
        "id": "HmW01I4W5ir_"
      },
      "outputs": [],
      "source": [
        "spacy.prefer_gpu()\n",
        "nlp = spacy.blank(\"en\")\n",
        "\n",
        "def predict_sentiment(model, sentence):\n",
        "\n",
        "    model.eval()\n",
        "    tokenized = [tok.text for tok in nlp.tokenizer(sentence)]\n",
        "    indexed = [TEXT.vocab.stoi[t] for t in tokenized]\n",
        "    length = [len(indexed)]\n",
        "    tensor = torch.LongTensor(indexed).to(DEVICE)\n",
        "    tensor = tensor.unsqueeze(1)\n",
        "    length_tensor = torch.LongTensor(length)\n",
        "    prediction = torch.nn.functional.softmax(model(tensor), dim=1)\n",
        "    return prediction[0][0].item()"
      ]
    },
    {
      "cell_type": "code",
      "execution_count": null,
      "metadata": {
        "colab": {
          "base_uri": "https://localhost:8080/"
        },
        "id": "z7c5gAz-7SUP",
        "outputId": "13c0624e-7705-496b-ca6e-874288707af1"
      },
      "outputs": [
        {
          "name": "stdout",
          "output_type": "stream",
          "text": [
            "Probability Negative:\n"
          ]
        },
        {
          "data": {
            "text/plain": [
              "0.24909082055091858"
            ]
          },
          "execution_count": 27,
          "metadata": {},
          "output_type": "execute_result"
        }
      ],
      "source": [
        "print('Probability Negative:')\n",
        "predict_sentiment(model, \"Pretty good movie, although with a sad ending!\")"
      ]
    },
    {
      "cell_type": "code",
      "execution_count": null,
      "metadata": {
        "colab": {
          "base_uri": "https://localhost:8080/"
        },
        "id": "HWZYZifw6_Tn",
        "outputId": "21314e27-f035-417b-fc64-f2e8d275ef0e"
      },
      "outputs": [
        {
          "name": "stdout",
          "output_type": "stream",
          "text": [
            "Probability Positive:\n"
          ]
        },
        {
          "data": {
            "text/plain": [
              "0.7509091794490814"
            ]
          },
          "execution_count": 28,
          "metadata": {},
          "output_type": "execute_result"
        }
      ],
      "source": [
        "print('Probability Positive:')\n",
        "1 - predict_sentiment(model, \"Pretty good movie, although with a sad ending!\")"
      ]
    },
    {
      "cell_type": "code",
      "execution_count": null,
      "metadata": {
        "colab": {
          "base_uri": "https://localhost:8080/"
        },
        "id": "sSBG6kVc7yFV",
        "outputId": "1c836579-e121-47d7-f58f-cbb83079c6e4"
      },
      "outputs": [
        {
          "name": "stdout",
          "output_type": "stream",
          "text": [
            "Mixed feelings about this. \n",
            "Probability positive:  0.01 \n",
            "Probability Negative 0.99 \n",
            "\n",
            "Genuinely impressed! Everything was perfect! \n",
            "Probability positive:  0.99 \n",
            "Probability Negative 0.01 \n",
            "\n",
            "I didn't like a single second of this movie. \n",
            "Probability positive:  0.35 \n",
            "Probability Negative 0.65 \n",
            "\n",
            "This movie bangs! It's awesome! \n",
            "Probability positive:  0.47 \n",
            "Probability Negative 0.53 \n",
            "\n"
          ]
        }
      ],
      "source": [
        "test_reviews = [\"Mixed feelings about this.\",\n",
        "                \"Genuinely impressed! Everything was perfect!\",\n",
        "                \"I didn't like a single second of this movie.\",\n",
        "                \"This movie bangs! It's awesome!\"]\n",
        "\n",
        "for idx, review in enumerate(test_reviews):\n",
        "  pred = predict_sentiment(model, review)\n",
        "  print(review,  \"\\nProbability positive: \" , f\"{1 - pred:.2f}\",\n",
        "        \"\\nProbability Negative\" , f\"{pred:.2f}\", \"\\n\")\n"
      ]
    },
    {
      "cell_type": "markdown",
      "metadata": {
        "id": "u36PFtqOAEFQ"
      },
      "source": [
        "# **Error Analysis**"
      ]
    },
    {
      "cell_type": "markdown",
      "metadata": {
        "id": "_WQ7hII3Afg0"
      },
      "source": [
        "Confussion Matrix"
      ]
    },
    {
      "cell_type": "markdown",
      "metadata": {
        "id": "R1NsEJ0Sv1RZ"
      },
      "source": [
        "*   TODO: Visualize confusion matrix\n",
        "*   TODO: Do more error analysis\n",
        "\n",
        "\n",
        "\n"
      ]
    },
    {
      "cell_type": "code",
      "execution_count": null,
      "metadata": {},
      "outputs": [],
      "source": [
        "# %pip install scikit-learn"
      ]
    },
    {
      "cell_type": "code",
      "execution_count": 29,
      "metadata": {
        "colab": {
          "base_uri": "https://localhost:8080/"
        },
        "id": "C-MU7s6SCg8b",
        "outputId": "a98e6a8a-d31b-4e98-e7d8-e0f7e0cb1d00"
      },
      "outputs": [],
      "source": [
        "def predict(model, test_loader):\n",
        "    model.eval()\n",
        "    predictions = []\n",
        "    true_labels = []\n",
        "    with torch.no_grad():\n",
        "        for batch in test_loader:\n",
        "            inputs = batch.review\n",
        "            outputs = model(inputs)\n",
        "            predicted_labels = torch.argmax(outputs, dim=1)\n",
        "            predictions.extend(predicted_labels.tolist())\n",
        "            true_labels.extend(batch.sentiment.tolist())\n",
        "    return predictions, true_labels"
      ]
    },
    {
      "cell_type": "code",
      "execution_count": 50,
      "metadata": {},
      "outputs": [],
      "source": [
        "predictions, true_labels = predict(model, test_loader)\n",
        "\n",
        "predictions_np = np.array(predictions)\n",
        "true_labels_np = np.array(true_labels)\n",
        "\n",
        "\n",
        "conf_matrix = confusion_matrix(true_labels_np, predictions_np)\n",
        "\n",
        "print(\"Confusion Matrix:\")\n",
        "print(conf_matrix)\n"
      ]
    },
    {
      "cell_type": "code",
      "execution_count": null,
      "metadata": {},
      "outputs": [],
      "source": [
        "cfm = confusion_matrix(model, test_loader)"
      ]
    },
    {
      "cell_type": "markdown",
      "metadata": {
        "id": "153Rui3_xAuW"
      },
      "source": [
        "# **Amazon Product Reviews**"
      ]
    },
    {
      "cell_type": "markdown",
      "metadata": {
        "id": "oyi7CBqjyiuk"
      },
      "source": [
        "Loading the new dataset - Amazon product reviews and the pre-trained model"
      ]
    },
    {
      "cell_type": "markdown",
      "metadata": {
        "id": "JqDAcj-iSTVG"
      },
      "source": [
        "* TODO: Keep the RNN parameters saved somewhere so when loading I don't have to load the previous dataset. (input_dim, embedding_dim...)\n",
        "\n"
      ]
    },
    {
      "cell_type": "code",
      "execution_count": 12,
      "metadata": {},
      "outputs": [],
      "source": [
        "import os"
      ]
    },
    {
      "cell_type": "code",
      "execution_count": 18,
      "metadata": {
        "id": "fr0ffZZxxDLo"
      },
      "outputs": [],
      "source": [
        "os.environ['KAGGLE_CONFIG_DIR'] = path"
      ]
    },
    {
      "cell_type": "code",
      "execution_count": null,
      "metadata": {
        "colab": {
          "base_uri": "https://localhost:8080/"
        },
        "id": "GqqX2bnMxPlv",
        "outputId": "12548144-7087-405a-cd1c-a84c9ef0a726"
      },
      "outputs": [
        {
          "name": "stdout",
          "output_type": "stream",
          "text": [
            "Warning: Your Kaggle API key is readable by other users on this system! To fix this, you can run 'chmod 600 /content/kaggle.json'\n",
            "amazon-reviews-for-sa-binary-negative-positive-csv.zip: Skipping, found more recently modified local copy (use --force to force download)\n"
          ]
        }
      ],
      "source": [
        "!kaggle datasets download -d yacharki/amazon-reviews-for-sa-binary-negative-positive-csv"
      ]
    },
    {
      "cell_type": "code",
      "execution_count": null,
      "metadata": {
        "id": "q3mfNdqLx2TU"
      },
      "outputs": [],
      "source": [
        "import zipfile\n",
        "\n",
        "with zipfile.ZipFile('amazon-reviews-for-sa-binary-negative-positive-csv.zip', 'r') as zip_ref:\n",
        "    zip_ref.extractall(path)"
      ]
    },
    {
      "cell_type": "markdown",
      "metadata": {
        "id": "rcfx5u-ZLyoc"
      },
      "source": [
        "Loading the new dataset"
      ]
    },
    {
      "cell_type": "code",
      "execution_count": 54,
      "metadata": {},
      "outputs": [
        {
          "data": {
            "text/plain": [
              "['amazon_review_sa_binary_csv',\n",
              " 'amazon_test.csv',\n",
              " 'amazon_train.csv',\n",
              " 'Logs',\n",
              " 'LSTM_Sentiment_Analyis.ipynb',\n",
              " 'movie_data.csv.gz',\n",
              " 'SentimentAnalysisLSTM.pth']"
            ]
          },
          "execution_count": 54,
          "metadata": {},
          "output_type": "execute_result"
        }
      ],
      "source": [
        "os.listdir(cwd)"
      ]
    },
    {
      "cell_type": "code",
      "execution_count": null,
      "metadata": {},
      "outputs": [],
      "source": [
        "df_amazon_train = pd.read_csv('amazonreview/train.csv')"
      ]
    },
    {
      "cell_type": "code",
      "execution_count": 61,
      "metadata": {
        "id": "dmh77u83L0Sg"
      },
      "outputs": [],
      "source": [
        "df_amazon_test = pd.read_csv(\"amazonreview/test.csv\")"
      ]
    },
    {
      "cell_type": "code",
      "execution_count": null,
      "metadata": {
        "colab": {
          "base_uri": "https://localhost:8080/",
          "height": 206
        },
        "id": "mqVjoeX_NBKe",
        "outputId": "1bffa6ab-e82f-46ae-99e1-23737c1a2d49"
      },
      "outputs": [
        {
          "data": {
            "application/vnd.google.colaboratory.intrinsic+json": {
              "type": "dataframe",
              "variable_name": "df_amazon_train"
            },
            "text/html": [
              "\n",
              "  <div id=\"df-d758cb94-8eb7-4a50-951e-2c5cedb652c6\" class=\"colab-df-container\">\n",
              "    <div>\n",
              "<style scoped>\n",
              "    .dataframe tbody tr th:only-of-type {\n",
              "        vertical-align: middle;\n",
              "    }\n",
              "\n",
              "    .dataframe tbody tr th {\n",
              "        vertical-align: top;\n",
              "    }\n",
              "\n",
              "    .dataframe thead th {\n",
              "        text-align: right;\n",
              "    }\n",
              "</style>\n",
              "<table border=\"1\" class=\"dataframe\">\n",
              "  <thead>\n",
              "    <tr style=\"text-align: right;\">\n",
              "      <th></th>\n",
              "      <th>class_index</th>\n",
              "      <th>review_title</th>\n",
              "      <th>review_text</th>\n",
              "    </tr>\n",
              "  </thead>\n",
              "  <tbody>\n",
              "    <tr>\n",
              "      <th>0</th>\n",
              "      <td>2</td>\n",
              "      <td>Stuning even for the non-gamer</td>\n",
              "      <td>This sound track was beautiful! It paints the ...</td>\n",
              "    </tr>\n",
              "    <tr>\n",
              "      <th>1</th>\n",
              "      <td>2</td>\n",
              "      <td>The best soundtrack ever to anything.</td>\n",
              "      <td>I'm reading a lot of reviews saying that this ...</td>\n",
              "    </tr>\n",
              "    <tr>\n",
              "      <th>2</th>\n",
              "      <td>2</td>\n",
              "      <td>Amazing!</td>\n",
              "      <td>This soundtrack is my favorite music of all ti...</td>\n",
              "    </tr>\n",
              "    <tr>\n",
              "      <th>3</th>\n",
              "      <td>2</td>\n",
              "      <td>Excellent Soundtrack</td>\n",
              "      <td>I truly like this soundtrack and I enjoy video...</td>\n",
              "    </tr>\n",
              "    <tr>\n",
              "      <th>4</th>\n",
              "      <td>2</td>\n",
              "      <td>Remember, Pull Your Jaw Off The Floor After He...</td>\n",
              "      <td>If you've played the game, you know how divine...</td>\n",
              "    </tr>\n",
              "  </tbody>\n",
              "</table>\n",
              "</div>\n",
              "    <div class=\"colab-df-buttons\">\n",
              "\n",
              "  <div class=\"colab-df-container\">\n",
              "    <button class=\"colab-df-convert\" onclick=\"convertToInteractive('df-d758cb94-8eb7-4a50-951e-2c5cedb652c6')\"\n",
              "            title=\"Convert this dataframe to an interactive table.\"\n",
              "            style=\"display:none;\">\n",
              "\n",
              "  <svg xmlns=\"http://www.w3.org/2000/svg\" height=\"24px\" viewBox=\"0 -960 960 960\">\n",
              "    <path d=\"M120-120v-720h720v720H120Zm60-500h600v-160H180v160Zm220 220h160v-160H400v160Zm0 220h160v-160H400v160ZM180-400h160v-160H180v160Zm440 0h160v-160H620v160ZM180-180h160v-160H180v160Zm440 0h160v-160H620v160Z\"/>\n",
              "  </svg>\n",
              "    </button>\n",
              "\n",
              "  <style>\n",
              "    .colab-df-container {\n",
              "      display:flex;\n",
              "      gap: 12px;\n",
              "    }\n",
              "\n",
              "    .colab-df-convert {\n",
              "      background-color: #E8F0FE;\n",
              "      border: none;\n",
              "      border-radius: 50%;\n",
              "      cursor: pointer;\n",
              "      display: none;\n",
              "      fill: #1967D2;\n",
              "      height: 32px;\n",
              "      padding: 0 0 0 0;\n",
              "      width: 32px;\n",
              "    }\n",
              "\n",
              "    .colab-df-convert:hover {\n",
              "      background-color: #E2EBFA;\n",
              "      box-shadow: 0px 1px 2px rgba(60, 64, 67, 0.3), 0px 1px 3px 1px rgba(60, 64, 67, 0.15);\n",
              "      fill: #174EA6;\n",
              "    }\n",
              "\n",
              "    .colab-df-buttons div {\n",
              "      margin-bottom: 4px;\n",
              "    }\n",
              "\n",
              "    [theme=dark] .colab-df-convert {\n",
              "      background-color: #3B4455;\n",
              "      fill: #D2E3FC;\n",
              "    }\n",
              "\n",
              "    [theme=dark] .colab-df-convert:hover {\n",
              "      background-color: #434B5C;\n",
              "      box-shadow: 0px 1px 3px 1px rgba(0, 0, 0, 0.15);\n",
              "      filter: drop-shadow(0px 1px 2px rgba(0, 0, 0, 0.3));\n",
              "      fill: #FFFFFF;\n",
              "    }\n",
              "  </style>\n",
              "\n",
              "    <script>\n",
              "      const buttonEl =\n",
              "        document.querySelector('#df-d758cb94-8eb7-4a50-951e-2c5cedb652c6 button.colab-df-convert');\n",
              "      buttonEl.style.display =\n",
              "        google.colab.kernel.accessAllowed ? 'block' : 'none';\n",
              "\n",
              "      async function convertToInteractive(key) {\n",
              "        const element = document.querySelector('#df-d758cb94-8eb7-4a50-951e-2c5cedb652c6');\n",
              "        const dataTable =\n",
              "          await google.colab.kernel.invokeFunction('convertToInteractive',\n",
              "                                                    [key], {});\n",
              "        if (!dataTable) return;\n",
              "\n",
              "        const docLinkHtml = 'Like what you see? Visit the ' +\n",
              "          '<a target=\"_blank\" href=https://colab.research.google.com/notebooks/data_table.ipynb>data table notebook</a>'\n",
              "          + ' to learn more about interactive tables.';\n",
              "        element.innerHTML = '';\n",
              "        dataTable['output_type'] = 'display_data';\n",
              "        await google.colab.output.renderOutput(dataTable, element);\n",
              "        const docLink = document.createElement('div');\n",
              "        docLink.innerHTML = docLinkHtml;\n",
              "        element.appendChild(docLink);\n",
              "      }\n",
              "    </script>\n",
              "  </div>\n",
              "\n",
              "\n",
              "<div id=\"df-69a252aa-3b10-48d3-87df-26d6f6ba6149\">\n",
              "  <button class=\"colab-df-quickchart\" onclick=\"quickchart('df-69a252aa-3b10-48d3-87df-26d6f6ba6149')\"\n",
              "            title=\"Suggest charts\"\n",
              "            style=\"display:none;\">\n",
              "\n",
              "<svg xmlns=\"http://www.w3.org/2000/svg\" height=\"24px\"viewBox=\"0 0 24 24\"\n",
              "     width=\"24px\">\n",
              "    <g>\n",
              "        <path d=\"M19 3H5c-1.1 0-2 .9-2 2v14c0 1.1.9 2 2 2h14c1.1 0 2-.9 2-2V5c0-1.1-.9-2-2-2zM9 17H7v-7h2v7zm4 0h-2V7h2v10zm4 0h-2v-4h2v4z\"/>\n",
              "    </g>\n",
              "</svg>\n",
              "  </button>\n",
              "\n",
              "<style>\n",
              "  .colab-df-quickchart {\n",
              "      --bg-color: #E8F0FE;\n",
              "      --fill-color: #1967D2;\n",
              "      --hover-bg-color: #E2EBFA;\n",
              "      --hover-fill-color: #174EA6;\n",
              "      --disabled-fill-color: #AAA;\n",
              "      --disabled-bg-color: #DDD;\n",
              "  }\n",
              "\n",
              "  [theme=dark] .colab-df-quickchart {\n",
              "      --bg-color: #3B4455;\n",
              "      --fill-color: #D2E3FC;\n",
              "      --hover-bg-color: #434B5C;\n",
              "      --hover-fill-color: #FFFFFF;\n",
              "      --disabled-bg-color: #3B4455;\n",
              "      --disabled-fill-color: #666;\n",
              "  }\n",
              "\n",
              "  .colab-df-quickchart {\n",
              "    background-color: var(--bg-color);\n",
              "    border: none;\n",
              "    border-radius: 50%;\n",
              "    cursor: pointer;\n",
              "    display: none;\n",
              "    fill: var(--fill-color);\n",
              "    height: 32px;\n",
              "    padding: 0;\n",
              "    width: 32px;\n",
              "  }\n",
              "\n",
              "  .colab-df-quickchart:hover {\n",
              "    background-color: var(--hover-bg-color);\n",
              "    box-shadow: 0 1px 2px rgba(60, 64, 67, 0.3), 0 1px 3px 1px rgba(60, 64, 67, 0.15);\n",
              "    fill: var(--button-hover-fill-color);\n",
              "  }\n",
              "\n",
              "  .colab-df-quickchart-complete:disabled,\n",
              "  .colab-df-quickchart-complete:disabled:hover {\n",
              "    background-color: var(--disabled-bg-color);\n",
              "    fill: var(--disabled-fill-color);\n",
              "    box-shadow: none;\n",
              "  }\n",
              "\n",
              "  .colab-df-spinner {\n",
              "    border: 2px solid var(--fill-color);\n",
              "    border-color: transparent;\n",
              "    border-bottom-color: var(--fill-color);\n",
              "    animation:\n",
              "      spin 1s steps(1) infinite;\n",
              "  }\n",
              "\n",
              "  @keyframes spin {\n",
              "    0% {\n",
              "      border-color: transparent;\n",
              "      border-bottom-color: var(--fill-color);\n",
              "      border-left-color: var(--fill-color);\n",
              "    }\n",
              "    20% {\n",
              "      border-color: transparent;\n",
              "      border-left-color: var(--fill-color);\n",
              "      border-top-color: var(--fill-color);\n",
              "    }\n",
              "    30% {\n",
              "      border-color: transparent;\n",
              "      border-left-color: var(--fill-color);\n",
              "      border-top-color: var(--fill-color);\n",
              "      border-right-color: var(--fill-color);\n",
              "    }\n",
              "    40% {\n",
              "      border-color: transparent;\n",
              "      border-right-color: var(--fill-color);\n",
              "      border-top-color: var(--fill-color);\n",
              "    }\n",
              "    60% {\n",
              "      border-color: transparent;\n",
              "      border-right-color: var(--fill-color);\n",
              "    }\n",
              "    80% {\n",
              "      border-color: transparent;\n",
              "      border-right-color: var(--fill-color);\n",
              "      border-bottom-color: var(--fill-color);\n",
              "    }\n",
              "    90% {\n",
              "      border-color: transparent;\n",
              "      border-bottom-color: var(--fill-color);\n",
              "    }\n",
              "  }\n",
              "</style>\n",
              "\n",
              "  <script>\n",
              "    async function quickchart(key) {\n",
              "      const quickchartButtonEl =\n",
              "        document.querySelector('#' + key + ' button');\n",
              "      quickchartButtonEl.disabled = true;  // To prevent multiple clicks.\n",
              "      quickchartButtonEl.classList.add('colab-df-spinner');\n",
              "      try {\n",
              "        const charts = await google.colab.kernel.invokeFunction(\n",
              "            'suggestCharts', [key], {});\n",
              "      } catch (error) {\n",
              "        console.error('Error during call to suggestCharts:', error);\n",
              "      }\n",
              "      quickchartButtonEl.classList.remove('colab-df-spinner');\n",
              "      quickchartButtonEl.classList.add('colab-df-quickchart-complete');\n",
              "    }\n",
              "    (() => {\n",
              "      let quickchartButtonEl =\n",
              "        document.querySelector('#df-69a252aa-3b10-48d3-87df-26d6f6ba6149 button');\n",
              "      quickchartButtonEl.style.display =\n",
              "        google.colab.kernel.accessAllowed ? 'block' : 'none';\n",
              "    })();\n",
              "  </script>\n",
              "</div>\n",
              "    </div>\n",
              "  </div>\n"
            ],
            "text/plain": [
              "   class_index                                       review_title  \\\n",
              "0            2                     Stuning even for the non-gamer   \n",
              "1            2              The best soundtrack ever to anything.   \n",
              "2            2                                           Amazing!   \n",
              "3            2                               Excellent Soundtrack   \n",
              "4            2  Remember, Pull Your Jaw Off The Floor After He...   \n",
              "\n",
              "                                         review_text  \n",
              "0  This sound track was beautiful! It paints the ...  \n",
              "1  I'm reading a lot of reviews saying that this ...  \n",
              "2  This soundtrack is my favorite music of all ti...  \n",
              "3  I truly like this soundtrack and I enjoy video...  \n",
              "4  If you've played the game, you know how divine...  "
            ]
          },
          "execution_count": 56,
          "metadata": {},
          "output_type": "execute_result"
        }
      ],
      "source": [
        "df_amazon_train.head()"
      ]
    },
    {
      "cell_type": "code",
      "execution_count": null,
      "metadata": {
        "id": "YJA529w-Msz6"
      },
      "outputs": [],
      "source": [
        "df_amazon_train = df_amazon_train.drop(['review_title'], axis=1)\n",
        "df_amazon_test = df_amazon_test.drop(['review_title'], axis=1)"
      ]
    },
    {
      "cell_type": "markdown",
      "metadata": {
        "id": "1KB7UG9EOefG"
      },
      "source": [
        "Formatting the dataset to fit the format of the previous dataset in order to be used for the data loaders."
      ]
    },
    {
      "cell_type": "code",
      "execution_count": null,
      "metadata": {
        "id": "LLRt3nyIN7ge"
      },
      "outputs": [],
      "source": [
        "df_amazon_train['class_index'] = df_amazon_train['class_index'].replace({1: 0, 2: 1})\n",
        "df_amazon_train = df_amazon_train.rename(columns={'class_index': 'sentiment', 'review_text': 'review'})\n",
        "\n",
        "df_amazon_test['class_index'] = df_amazon_test['class_index'].replace({1: 0, 2: 1})\n",
        "df_amazon_test = df_amazon_test.rename(columns={'class_index': 'sentiment', 'review_text': 'review'})"
      ]
    },
    {
      "cell_type": "code",
      "execution_count": null,
      "metadata": {
        "id": "PQIqsDozWPXU"
      },
      "outputs": [],
      "source": [
        "new_order = ['review', 'sentiment'] + [col for col in df_amazon_train.columns if col not in ['review', 'sentiment']]\n",
        "df_amazon_train = df_amazon_train[new_order]\n",
        "new_order = ['review', 'sentiment'] + [col for col in df_amazon_test.columns if col not in ['review', 'sentiment']]\n",
        "df_amazon_test = df_amazon_test[new_order]"
      ]
    },
    {
      "cell_type": "code",
      "execution_count": null,
      "metadata": {
        "colab": {
          "base_uri": "https://localhost:8080/",
          "height": 424
        },
        "id": "aIpgP24GNeMJ",
        "outputId": "7184050b-c8cf-4b62-8ecb-735449a3b822"
      },
      "outputs": [
        {
          "data": {
            "application/vnd.google.colaboratory.intrinsic+json": {
              "type": "dataframe",
              "variable_name": "df_amazon_train"
            },
            "text/html": [
              "\n",
              "  <div id=\"df-f5768210-c5e2-4312-b664-ad7e4a0b0d3b\" class=\"colab-df-container\">\n",
              "    <div>\n",
              "<style scoped>\n",
              "    .dataframe tbody tr th:only-of-type {\n",
              "        vertical-align: middle;\n",
              "    }\n",
              "\n",
              "    .dataframe tbody tr th {\n",
              "        vertical-align: top;\n",
              "    }\n",
              "\n",
              "    .dataframe thead th {\n",
              "        text-align: right;\n",
              "    }\n",
              "</style>\n",
              "<table border=\"1\" class=\"dataframe\">\n",
              "  <thead>\n",
              "    <tr style=\"text-align: right;\">\n",
              "      <th></th>\n",
              "      <th>review</th>\n",
              "      <th>sentiment</th>\n",
              "    </tr>\n",
              "  </thead>\n",
              "  <tbody>\n",
              "    <tr>\n",
              "      <th>0</th>\n",
              "      <td>This sound track was beautiful! It paints the ...</td>\n",
              "      <td>1</td>\n",
              "    </tr>\n",
              "    <tr>\n",
              "      <th>1</th>\n",
              "      <td>I'm reading a lot of reviews saying that this ...</td>\n",
              "      <td>1</td>\n",
              "    </tr>\n",
              "    <tr>\n",
              "      <th>2</th>\n",
              "      <td>This soundtrack is my favorite music of all ti...</td>\n",
              "      <td>1</td>\n",
              "    </tr>\n",
              "    <tr>\n",
              "      <th>3</th>\n",
              "      <td>I truly like this soundtrack and I enjoy video...</td>\n",
              "      <td>1</td>\n",
              "    </tr>\n",
              "    <tr>\n",
              "      <th>4</th>\n",
              "      <td>If you've played the game, you know how divine...</td>\n",
              "      <td>1</td>\n",
              "    </tr>\n",
              "    <tr>\n",
              "      <th>...</th>\n",
              "      <td>...</td>\n",
              "      <td>...</td>\n",
              "    </tr>\n",
              "    <tr>\n",
              "      <th>3599995</th>\n",
              "      <td>The high chair looks great when it first comes...</td>\n",
              "      <td>0</td>\n",
              "    </tr>\n",
              "    <tr>\n",
              "      <th>3599996</th>\n",
              "      <td>I have used this highchair for 2 kids now and ...</td>\n",
              "      <td>0</td>\n",
              "    </tr>\n",
              "    <tr>\n",
              "      <th>3599997</th>\n",
              "      <td>We have a small house, and really wanted two o...</td>\n",
              "      <td>0</td>\n",
              "    </tr>\n",
              "    <tr>\n",
              "      <th>3599998</th>\n",
              "      <td>not sure what this book is supposed to be. It ...</td>\n",
              "      <td>0</td>\n",
              "    </tr>\n",
              "    <tr>\n",
              "      <th>3599999</th>\n",
              "      <td>I agree that every American should read this b...</td>\n",
              "      <td>1</td>\n",
              "    </tr>\n",
              "  </tbody>\n",
              "</table>\n",
              "<p>3600000 rows × 2 columns</p>\n",
              "</div>\n",
              "    <div class=\"colab-df-buttons\">\n",
              "\n",
              "  <div class=\"colab-df-container\">\n",
              "    <button class=\"colab-df-convert\" onclick=\"convertToInteractive('df-f5768210-c5e2-4312-b664-ad7e4a0b0d3b')\"\n",
              "            title=\"Convert this dataframe to an interactive table.\"\n",
              "            style=\"display:none;\">\n",
              "\n",
              "  <svg xmlns=\"http://www.w3.org/2000/svg\" height=\"24px\" viewBox=\"0 -960 960 960\">\n",
              "    <path d=\"M120-120v-720h720v720H120Zm60-500h600v-160H180v160Zm220 220h160v-160H400v160Zm0 220h160v-160H400v160ZM180-400h160v-160H180v160Zm440 0h160v-160H620v160ZM180-180h160v-160H180v160Zm440 0h160v-160H620v160Z\"/>\n",
              "  </svg>\n",
              "    </button>\n",
              "\n",
              "  <style>\n",
              "    .colab-df-container {\n",
              "      display:flex;\n",
              "      gap: 12px;\n",
              "    }\n",
              "\n",
              "    .colab-df-convert {\n",
              "      background-color: #E8F0FE;\n",
              "      border: none;\n",
              "      border-radius: 50%;\n",
              "      cursor: pointer;\n",
              "      display: none;\n",
              "      fill: #1967D2;\n",
              "      height: 32px;\n",
              "      padding: 0 0 0 0;\n",
              "      width: 32px;\n",
              "    }\n",
              "\n",
              "    .colab-df-convert:hover {\n",
              "      background-color: #E2EBFA;\n",
              "      box-shadow: 0px 1px 2px rgba(60, 64, 67, 0.3), 0px 1px 3px 1px rgba(60, 64, 67, 0.15);\n",
              "      fill: #174EA6;\n",
              "    }\n",
              "\n",
              "    .colab-df-buttons div {\n",
              "      margin-bottom: 4px;\n",
              "    }\n",
              "\n",
              "    [theme=dark] .colab-df-convert {\n",
              "      background-color: #3B4455;\n",
              "      fill: #D2E3FC;\n",
              "    }\n",
              "\n",
              "    [theme=dark] .colab-df-convert:hover {\n",
              "      background-color: #434B5C;\n",
              "      box-shadow: 0px 1px 3px 1px rgba(0, 0, 0, 0.15);\n",
              "      filter: drop-shadow(0px 1px 2px rgba(0, 0, 0, 0.3));\n",
              "      fill: #FFFFFF;\n",
              "    }\n",
              "  </style>\n",
              "\n",
              "    <script>\n",
              "      const buttonEl =\n",
              "        document.querySelector('#df-f5768210-c5e2-4312-b664-ad7e4a0b0d3b button.colab-df-convert');\n",
              "      buttonEl.style.display =\n",
              "        google.colab.kernel.accessAllowed ? 'block' : 'none';\n",
              "\n",
              "      async function convertToInteractive(key) {\n",
              "        const element = document.querySelector('#df-f5768210-c5e2-4312-b664-ad7e4a0b0d3b');\n",
              "        const dataTable =\n",
              "          await google.colab.kernel.invokeFunction('convertToInteractive',\n",
              "                                                    [key], {});\n",
              "        if (!dataTable) return;\n",
              "\n",
              "        const docLinkHtml = 'Like what you see? Visit the ' +\n",
              "          '<a target=\"_blank\" href=https://colab.research.google.com/notebooks/data_table.ipynb>data table notebook</a>'\n",
              "          + ' to learn more about interactive tables.';\n",
              "        element.innerHTML = '';\n",
              "        dataTable['output_type'] = 'display_data';\n",
              "        await google.colab.output.renderOutput(dataTable, element);\n",
              "        const docLink = document.createElement('div');\n",
              "        docLink.innerHTML = docLinkHtml;\n",
              "        element.appendChild(docLink);\n",
              "      }\n",
              "    </script>\n",
              "  </div>\n",
              "\n",
              "\n",
              "<div id=\"df-5f5cb537-0fe7-4580-80c2-c4d33a3b42ee\">\n",
              "  <button class=\"colab-df-quickchart\" onclick=\"quickchart('df-5f5cb537-0fe7-4580-80c2-c4d33a3b42ee')\"\n",
              "            title=\"Suggest charts\"\n",
              "            style=\"display:none;\">\n",
              "\n",
              "<svg xmlns=\"http://www.w3.org/2000/svg\" height=\"24px\"viewBox=\"0 0 24 24\"\n",
              "     width=\"24px\">\n",
              "    <g>\n",
              "        <path d=\"M19 3H5c-1.1 0-2 .9-2 2v14c0 1.1.9 2 2 2h14c1.1 0 2-.9 2-2V5c0-1.1-.9-2-2-2zM9 17H7v-7h2v7zm4 0h-2V7h2v10zm4 0h-2v-4h2v4z\"/>\n",
              "    </g>\n",
              "</svg>\n",
              "  </button>\n",
              "\n",
              "<style>\n",
              "  .colab-df-quickchart {\n",
              "      --bg-color: #E8F0FE;\n",
              "      --fill-color: #1967D2;\n",
              "      --hover-bg-color: #E2EBFA;\n",
              "      --hover-fill-color: #174EA6;\n",
              "      --disabled-fill-color: #AAA;\n",
              "      --disabled-bg-color: #DDD;\n",
              "  }\n",
              "\n",
              "  [theme=dark] .colab-df-quickchart {\n",
              "      --bg-color: #3B4455;\n",
              "      --fill-color: #D2E3FC;\n",
              "      --hover-bg-color: #434B5C;\n",
              "      --hover-fill-color: #FFFFFF;\n",
              "      --disabled-bg-color: #3B4455;\n",
              "      --disabled-fill-color: #666;\n",
              "  }\n",
              "\n",
              "  .colab-df-quickchart {\n",
              "    background-color: var(--bg-color);\n",
              "    border: none;\n",
              "    border-radius: 50%;\n",
              "    cursor: pointer;\n",
              "    display: none;\n",
              "    fill: var(--fill-color);\n",
              "    height: 32px;\n",
              "    padding: 0;\n",
              "    width: 32px;\n",
              "  }\n",
              "\n",
              "  .colab-df-quickchart:hover {\n",
              "    background-color: var(--hover-bg-color);\n",
              "    box-shadow: 0 1px 2px rgba(60, 64, 67, 0.3), 0 1px 3px 1px rgba(60, 64, 67, 0.15);\n",
              "    fill: var(--button-hover-fill-color);\n",
              "  }\n",
              "\n",
              "  .colab-df-quickchart-complete:disabled,\n",
              "  .colab-df-quickchart-complete:disabled:hover {\n",
              "    background-color: var(--disabled-bg-color);\n",
              "    fill: var(--disabled-fill-color);\n",
              "    box-shadow: none;\n",
              "  }\n",
              "\n",
              "  .colab-df-spinner {\n",
              "    border: 2px solid var(--fill-color);\n",
              "    border-color: transparent;\n",
              "    border-bottom-color: var(--fill-color);\n",
              "    animation:\n",
              "      spin 1s steps(1) infinite;\n",
              "  }\n",
              "\n",
              "  @keyframes spin {\n",
              "    0% {\n",
              "      border-color: transparent;\n",
              "      border-bottom-color: var(--fill-color);\n",
              "      border-left-color: var(--fill-color);\n",
              "    }\n",
              "    20% {\n",
              "      border-color: transparent;\n",
              "      border-left-color: var(--fill-color);\n",
              "      border-top-color: var(--fill-color);\n",
              "    }\n",
              "    30% {\n",
              "      border-color: transparent;\n",
              "      border-left-color: var(--fill-color);\n",
              "      border-top-color: var(--fill-color);\n",
              "      border-right-color: var(--fill-color);\n",
              "    }\n",
              "    40% {\n",
              "      border-color: transparent;\n",
              "      border-right-color: var(--fill-color);\n",
              "      border-top-color: var(--fill-color);\n",
              "    }\n",
              "    60% {\n",
              "      border-color: transparent;\n",
              "      border-right-color: var(--fill-color);\n",
              "    }\n",
              "    80% {\n",
              "      border-color: transparent;\n",
              "      border-right-color: var(--fill-color);\n",
              "      border-bottom-color: var(--fill-color);\n",
              "    }\n",
              "    90% {\n",
              "      border-color: transparent;\n",
              "      border-bottom-color: var(--fill-color);\n",
              "    }\n",
              "  }\n",
              "</style>\n",
              "\n",
              "  <script>\n",
              "    async function quickchart(key) {\n",
              "      const quickchartButtonEl =\n",
              "        document.querySelector('#' + key + ' button');\n",
              "      quickchartButtonEl.disabled = true;  // To prevent multiple clicks.\n",
              "      quickchartButtonEl.classList.add('colab-df-spinner');\n",
              "      try {\n",
              "        const charts = await google.colab.kernel.invokeFunction(\n",
              "            'suggestCharts', [key], {});\n",
              "      } catch (error) {\n",
              "        console.error('Error during call to suggestCharts:', error);\n",
              "      }\n",
              "      quickchartButtonEl.classList.remove('colab-df-spinner');\n",
              "      quickchartButtonEl.classList.add('colab-df-quickchart-complete');\n",
              "    }\n",
              "    (() => {\n",
              "      let quickchartButtonEl =\n",
              "        document.querySelector('#df-5f5cb537-0fe7-4580-80c2-c4d33a3b42ee button');\n",
              "      quickchartButtonEl.style.display =\n",
              "        google.colab.kernel.accessAllowed ? 'block' : 'none';\n",
              "    })();\n",
              "  </script>\n",
              "</div>\n",
              "    </div>\n",
              "  </div>\n"
            ],
            "text/plain": [
              "                                                    review  sentiment\n",
              "0        This sound track was beautiful! It paints the ...          1\n",
              "1        I'm reading a lot of reviews saying that this ...          1\n",
              "2        This soundtrack is my favorite music of all ti...          1\n",
              "3        I truly like this soundtrack and I enjoy video...          1\n",
              "4        If you've played the game, you know how divine...          1\n",
              "...                                                    ...        ...\n",
              "3599995  The high chair looks great when it first comes...          0\n",
              "3599996  I have used this highchair for 2 kids now and ...          0\n",
              "3599997  We have a small house, and really wanted two o...          0\n",
              "3599998  not sure what this book is supposed to be. It ...          0\n",
              "3599999  I agree that every American should read this b...          1\n",
              "\n",
              "[3600000 rows x 2 columns]"
            ]
          },
          "execution_count": 61,
          "metadata": {},
          "output_type": "execute_result"
        }
      ],
      "source": [
        "df_amazon_train"
      ]
    },
    {
      "cell_type": "code",
      "execution_count": null,
      "metadata": {
        "colab": {
          "base_uri": "https://localhost:8080/",
          "height": 424
        },
        "id": "4Flgfa4VOHi4",
        "outputId": "bd1f825f-6bc4-450e-c75c-ef0fb8959125"
      },
      "outputs": [
        {
          "data": {
            "application/vnd.google.colaboratory.intrinsic+json": {
              "type": "dataframe",
              "variable_name": "df_amazon_test"
            },
            "text/html": [
              "\n",
              "  <div id=\"df-2a766e2d-8d85-4891-b5a8-f4ab691054a3\" class=\"colab-df-container\">\n",
              "    <div>\n",
              "<style scoped>\n",
              "    .dataframe tbody tr th:only-of-type {\n",
              "        vertical-align: middle;\n",
              "    }\n",
              "\n",
              "    .dataframe tbody tr th {\n",
              "        vertical-align: top;\n",
              "    }\n",
              "\n",
              "    .dataframe thead th {\n",
              "        text-align: right;\n",
              "    }\n",
              "</style>\n",
              "<table border=\"1\" class=\"dataframe\">\n",
              "  <thead>\n",
              "    <tr style=\"text-align: right;\">\n",
              "      <th></th>\n",
              "      <th>review</th>\n",
              "      <th>sentiment</th>\n",
              "    </tr>\n",
              "  </thead>\n",
              "  <tbody>\n",
              "    <tr>\n",
              "      <th>0</th>\n",
              "      <td>My lovely Pat has one of the GREAT voices of h...</td>\n",
              "      <td>1</td>\n",
              "    </tr>\n",
              "    <tr>\n",
              "      <th>1</th>\n",
              "      <td>Despite the fact that I have only played a sma...</td>\n",
              "      <td>1</td>\n",
              "    </tr>\n",
              "    <tr>\n",
              "      <th>2</th>\n",
              "      <td>I bought this charger in Jul 2003 and it worke...</td>\n",
              "      <td>0</td>\n",
              "    </tr>\n",
              "    <tr>\n",
              "      <th>3</th>\n",
              "      <td>Check out Maha Energy's website. Their Powerex...</td>\n",
              "      <td>1</td>\n",
              "    </tr>\n",
              "    <tr>\n",
              "      <th>4</th>\n",
              "      <td>Reviewed quite a bit of the combo players and ...</td>\n",
              "      <td>1</td>\n",
              "    </tr>\n",
              "    <tr>\n",
              "      <th>...</th>\n",
              "      <td>...</td>\n",
              "      <td>...</td>\n",
              "    </tr>\n",
              "    <tr>\n",
              "      <th>399995</th>\n",
              "      <td>We bought this Thomas for our son who is a hug...</td>\n",
              "      <td>0</td>\n",
              "    </tr>\n",
              "    <tr>\n",
              "      <th>399996</th>\n",
              "      <td>My son recieved this as a birthday gift 2 mont...</td>\n",
              "      <td>0</td>\n",
              "    </tr>\n",
              "    <tr>\n",
              "      <th>399997</th>\n",
              "      <td>I bought this toy for my son who loves the \"Th...</td>\n",
              "      <td>0</td>\n",
              "    </tr>\n",
              "    <tr>\n",
              "      <th>399998</th>\n",
              "      <td>This is a compilation of a wide range of Mitfo...</td>\n",
              "      <td>1</td>\n",
              "    </tr>\n",
              "    <tr>\n",
              "      <th>399999</th>\n",
              "      <td>This DVD will be a disappointment if you get i...</td>\n",
              "      <td>0</td>\n",
              "    </tr>\n",
              "  </tbody>\n",
              "</table>\n",
              "<p>400000 rows × 2 columns</p>\n",
              "</div>\n",
              "    <div class=\"colab-df-buttons\">\n",
              "\n",
              "  <div class=\"colab-df-container\">\n",
              "    <button class=\"colab-df-convert\" onclick=\"convertToInteractive('df-2a766e2d-8d85-4891-b5a8-f4ab691054a3')\"\n",
              "            title=\"Convert this dataframe to an interactive table.\"\n",
              "            style=\"display:none;\">\n",
              "\n",
              "  <svg xmlns=\"http://www.w3.org/2000/svg\" height=\"24px\" viewBox=\"0 -960 960 960\">\n",
              "    <path d=\"M120-120v-720h720v720H120Zm60-500h600v-160H180v160Zm220 220h160v-160H400v160Zm0 220h160v-160H400v160ZM180-400h160v-160H180v160Zm440 0h160v-160H620v160ZM180-180h160v-160H180v160Zm440 0h160v-160H620v160Z\"/>\n",
              "  </svg>\n",
              "    </button>\n",
              "\n",
              "  <style>\n",
              "    .colab-df-container {\n",
              "      display:flex;\n",
              "      gap: 12px;\n",
              "    }\n",
              "\n",
              "    .colab-df-convert {\n",
              "      background-color: #E8F0FE;\n",
              "      border: none;\n",
              "      border-radius: 50%;\n",
              "      cursor: pointer;\n",
              "      display: none;\n",
              "      fill: #1967D2;\n",
              "      height: 32px;\n",
              "      padding: 0 0 0 0;\n",
              "      width: 32px;\n",
              "    }\n",
              "\n",
              "    .colab-df-convert:hover {\n",
              "      background-color: #E2EBFA;\n",
              "      box-shadow: 0px 1px 2px rgba(60, 64, 67, 0.3), 0px 1px 3px 1px rgba(60, 64, 67, 0.15);\n",
              "      fill: #174EA6;\n",
              "    }\n",
              "\n",
              "    .colab-df-buttons div {\n",
              "      margin-bottom: 4px;\n",
              "    }\n",
              "\n",
              "    [theme=dark] .colab-df-convert {\n",
              "      background-color: #3B4455;\n",
              "      fill: #D2E3FC;\n",
              "    }\n",
              "\n",
              "    [theme=dark] .colab-df-convert:hover {\n",
              "      background-color: #434B5C;\n",
              "      box-shadow: 0px 1px 3px 1px rgba(0, 0, 0, 0.15);\n",
              "      filter: drop-shadow(0px 1px 2px rgba(0, 0, 0, 0.3));\n",
              "      fill: #FFFFFF;\n",
              "    }\n",
              "  </style>\n",
              "\n",
              "    <script>\n",
              "      const buttonEl =\n",
              "        document.querySelector('#df-2a766e2d-8d85-4891-b5a8-f4ab691054a3 button.colab-df-convert');\n",
              "      buttonEl.style.display =\n",
              "        google.colab.kernel.accessAllowed ? 'block' : 'none';\n",
              "\n",
              "      async function convertToInteractive(key) {\n",
              "        const element = document.querySelector('#df-2a766e2d-8d85-4891-b5a8-f4ab691054a3');\n",
              "        const dataTable =\n",
              "          await google.colab.kernel.invokeFunction('convertToInteractive',\n",
              "                                                    [key], {});\n",
              "        if (!dataTable) return;\n",
              "\n",
              "        const docLinkHtml = 'Like what you see? Visit the ' +\n",
              "          '<a target=\"_blank\" href=https://colab.research.google.com/notebooks/data_table.ipynb>data table notebook</a>'\n",
              "          + ' to learn more about interactive tables.';\n",
              "        element.innerHTML = '';\n",
              "        dataTable['output_type'] = 'display_data';\n",
              "        await google.colab.output.renderOutput(dataTable, element);\n",
              "        const docLink = document.createElement('div');\n",
              "        docLink.innerHTML = docLinkHtml;\n",
              "        element.appendChild(docLink);\n",
              "      }\n",
              "    </script>\n",
              "  </div>\n",
              "\n",
              "\n",
              "<div id=\"df-dcbc9a98-7e1a-4939-9a43-d14422bf978a\">\n",
              "  <button class=\"colab-df-quickchart\" onclick=\"quickchart('df-dcbc9a98-7e1a-4939-9a43-d14422bf978a')\"\n",
              "            title=\"Suggest charts\"\n",
              "            style=\"display:none;\">\n",
              "\n",
              "<svg xmlns=\"http://www.w3.org/2000/svg\" height=\"24px\"viewBox=\"0 0 24 24\"\n",
              "     width=\"24px\">\n",
              "    <g>\n",
              "        <path d=\"M19 3H5c-1.1 0-2 .9-2 2v14c0 1.1.9 2 2 2h14c1.1 0 2-.9 2-2V5c0-1.1-.9-2-2-2zM9 17H7v-7h2v7zm4 0h-2V7h2v10zm4 0h-2v-4h2v4z\"/>\n",
              "    </g>\n",
              "</svg>\n",
              "  </button>\n",
              "\n",
              "<style>\n",
              "  .colab-df-quickchart {\n",
              "      --bg-color: #E8F0FE;\n",
              "      --fill-color: #1967D2;\n",
              "      --hover-bg-color: #E2EBFA;\n",
              "      --hover-fill-color: #174EA6;\n",
              "      --disabled-fill-color: #AAA;\n",
              "      --disabled-bg-color: #DDD;\n",
              "  }\n",
              "\n",
              "  [theme=dark] .colab-df-quickchart {\n",
              "      --bg-color: #3B4455;\n",
              "      --fill-color: #D2E3FC;\n",
              "      --hover-bg-color: #434B5C;\n",
              "      --hover-fill-color: #FFFFFF;\n",
              "      --disabled-bg-color: #3B4455;\n",
              "      --disabled-fill-color: #666;\n",
              "  }\n",
              "\n",
              "  .colab-df-quickchart {\n",
              "    background-color: var(--bg-color);\n",
              "    border: none;\n",
              "    border-radius: 50%;\n",
              "    cursor: pointer;\n",
              "    display: none;\n",
              "    fill: var(--fill-color);\n",
              "    height: 32px;\n",
              "    padding: 0;\n",
              "    width: 32px;\n",
              "  }\n",
              "\n",
              "  .colab-df-quickchart:hover {\n",
              "    background-color: var(--hover-bg-color);\n",
              "    box-shadow: 0 1px 2px rgba(60, 64, 67, 0.3), 0 1px 3px 1px rgba(60, 64, 67, 0.15);\n",
              "    fill: var(--button-hover-fill-color);\n",
              "  }\n",
              "\n",
              "  .colab-df-quickchart-complete:disabled,\n",
              "  .colab-df-quickchart-complete:disabled:hover {\n",
              "    background-color: var(--disabled-bg-color);\n",
              "    fill: var(--disabled-fill-color);\n",
              "    box-shadow: none;\n",
              "  }\n",
              "\n",
              "  .colab-df-spinner {\n",
              "    border: 2px solid var(--fill-color);\n",
              "    border-color: transparent;\n",
              "    border-bottom-color: var(--fill-color);\n",
              "    animation:\n",
              "      spin 1s steps(1) infinite;\n",
              "  }\n",
              "\n",
              "  @keyframes spin {\n",
              "    0% {\n",
              "      border-color: transparent;\n",
              "      border-bottom-color: var(--fill-color);\n",
              "      border-left-color: var(--fill-color);\n",
              "    }\n",
              "    20% {\n",
              "      border-color: transparent;\n",
              "      border-left-color: var(--fill-color);\n",
              "      border-top-color: var(--fill-color);\n",
              "    }\n",
              "    30% {\n",
              "      border-color: transparent;\n",
              "      border-left-color: var(--fill-color);\n",
              "      border-top-color: var(--fill-color);\n",
              "      border-right-color: var(--fill-color);\n",
              "    }\n",
              "    40% {\n",
              "      border-color: transparent;\n",
              "      border-right-color: var(--fill-color);\n",
              "      border-top-color: var(--fill-color);\n",
              "    }\n",
              "    60% {\n",
              "      border-color: transparent;\n",
              "      border-right-color: var(--fill-color);\n",
              "    }\n",
              "    80% {\n",
              "      border-color: transparent;\n",
              "      border-right-color: var(--fill-color);\n",
              "      border-bottom-color: var(--fill-color);\n",
              "    }\n",
              "    90% {\n",
              "      border-color: transparent;\n",
              "      border-bottom-color: var(--fill-color);\n",
              "    }\n",
              "  }\n",
              "</style>\n",
              "\n",
              "  <script>\n",
              "    async function quickchart(key) {\n",
              "      const quickchartButtonEl =\n",
              "        document.querySelector('#' + key + ' button');\n",
              "      quickchartButtonEl.disabled = true;  // To prevent multiple clicks.\n",
              "      quickchartButtonEl.classList.add('colab-df-spinner');\n",
              "      try {\n",
              "        const charts = await google.colab.kernel.invokeFunction(\n",
              "            'suggestCharts', [key], {});\n",
              "      } catch (error) {\n",
              "        console.error('Error during call to suggestCharts:', error);\n",
              "      }\n",
              "      quickchartButtonEl.classList.remove('colab-df-spinner');\n",
              "      quickchartButtonEl.classList.add('colab-df-quickchart-complete');\n",
              "    }\n",
              "    (() => {\n",
              "      let quickchartButtonEl =\n",
              "        document.querySelector('#df-dcbc9a98-7e1a-4939-9a43-d14422bf978a button');\n",
              "      quickchartButtonEl.style.display =\n",
              "        google.colab.kernel.accessAllowed ? 'block' : 'none';\n",
              "    })();\n",
              "  </script>\n",
              "</div>\n",
              "    </div>\n",
              "  </div>\n"
            ],
            "text/plain": [
              "                                                   review  sentiment\n",
              "0       My lovely Pat has one of the GREAT voices of h...          1\n",
              "1       Despite the fact that I have only played a sma...          1\n",
              "2       I bought this charger in Jul 2003 and it worke...          0\n",
              "3       Check out Maha Energy's website. Their Powerex...          1\n",
              "4       Reviewed quite a bit of the combo players and ...          1\n",
              "...                                                   ...        ...\n",
              "399995  We bought this Thomas for our son who is a hug...          0\n",
              "399996  My son recieved this as a birthday gift 2 mont...          0\n",
              "399997  I bought this toy for my son who loves the \"Th...          0\n",
              "399998  This is a compilation of a wide range of Mitfo...          1\n",
              "399999  This DVD will be a disappointment if you get i...          0\n",
              "\n",
              "[400000 rows x 2 columns]"
            ]
          },
          "execution_count": 62,
          "metadata": {},
          "output_type": "execute_result"
        }
      ],
      "source": [
        "df_amazon_test"
      ]
    },
    {
      "cell_type": "code",
      "execution_count": null,
      "metadata": {
        "id": "7yNawSI-PGSg"
      },
      "outputs": [],
      "source": [
        "df_amazon_train.head(50000).to_csv('amazon_train.csv', index=False) # Saving only 50k entries of the dataset\n",
        "df_amazon_test.head(20000).to_csv('amazon_test.csv', index=False)"
      ]
    },
    {
      "cell_type": "code",
      "execution_count": null,
      "metadata": {
        "id": "67goxKr2Ptz2"
      },
      "outputs": [],
      "source": [
        "del df_amazon_train\n",
        "del df_amazon_test\n",
        "del new_order"
      ]
    },
    {
      "cell_type": "markdown",
      "metadata": {
        "id": "0w9JhIR1Y1lr"
      },
      "source": [
        "# **Transfer Learning**"
      ]
    },
    {
      "cell_type": "markdown",
      "metadata": {
        "id": "e8qUZpCdPjyI"
      },
      "source": [
        "Producing the dataloaders - Run from here if train and test csv uploaded"
      ]
    },
    {
      "cell_type": "code",
      "execution_count": 18,
      "metadata": {
        "id": "cYC9bF0IVhTq"
      },
      "outputs": [],
      "source": [
        "TEXT = torchtext.data.Field(\n",
        "    tokenize='spacy', # default splits on whitespace\n",
        "    tokenizer_language='en_core_web_sm'\n",
        ")\n",
        "\n",
        "# Labels\n",
        "LABEL = torchtext.data.LabelField(dtype=torch.long)"
      ]
    },
    {
      "cell_type": "code",
      "execution_count": 19,
      "metadata": {
        "id": "6KA3ncoIOvu4"
      },
      "outputs": [],
      "source": [
        "fields = [('review', TEXT), ('sentiment', LABEL)]\n",
        "\n",
        "amazon_train_data = torchtext.data.TabularDataset(path = 'amazon_train.csv', format = 'csv',\n",
        "                                     skip_header = True, fields = fields)\n",
        "amazon_test_data = torchtext.data.TabularDataset(path = 'amazon_test.csv', format = 'csv',\n",
        "                                     skip_header = True, fields = fields)"
      ]
    },
    {
      "cell_type": "code",
      "execution_count": 20,
      "metadata": {
        "id": "kxaL6vL9QWfD"
      },
      "outputs": [],
      "source": [
        "amazon_train_data, amazon_validation_data = amazon_train_data.split(split_ratio = [0.7, 0.3],\n",
        "                                     random_state = random.seed(random_state))"
      ]
    },
    {
      "cell_type": "code",
      "execution_count": 21,
      "metadata": {
        "id": "efPFoflKQI6L"
      },
      "outputs": [],
      "source": [
        "TEXT.build_vocab(amazon_train_data, max_size = VOCABULARY_SIZE)\n",
        "LABEL.build_vocab(amazon_train_data)"
      ]
    },
    {
      "cell_type": "code",
      "execution_count": 17,
      "metadata": {
        "colab": {
          "base_uri": "https://localhost:8080/"
        },
        "id": "xLjDkmLJsHuO",
        "outputId": "d8d8c908-42c0-448e-92b2-2a78d1567aba"
      },
      "outputs": [
        {
          "data": {
            "text/plain": [
              "Counter({'1': 17794, '0': 17206})"
            ]
          },
          "execution_count": 17,
          "metadata": {},
          "output_type": "execute_result"
        }
      ],
      "source": [
        "LABEL.vocab.freqs"
      ]
    },
    {
      "cell_type": "markdown",
      "metadata": {
        "id": "4NLZhx67sJvh"
      },
      "source": [
        "Again, classes are balanced in the new dataset so no further class imbalance methods need to be considered."
      ]
    },
    {
      "cell_type": "code",
      "execution_count": 22,
      "metadata": {
        "id": "pqLogUGTQLWQ"
      },
      "outputs": [],
      "source": [
        "train_loader, validation_loader, test_loader = torchtext.data.BucketIterator.splits(\n",
        "    (amazon_train_data, amazon_validation_data, amazon_test_data),\n",
        "    batch_size = BATCH_SIZE, sort_within_batch = False,\n",
        "    sort_key = lambda x: len(x.review), device = DEVICE\n",
        ")"
      ]
    },
    {
      "cell_type": "code",
      "execution_count": 70,
      "metadata": {},
      "outputs": [],
      "source": [
        "'''train_loader = torch.utils.data.DataLoader(amazon_train_data, batch_size = BATCH_SIZE, num_workers = 4)\n",
        "validation_loader = torch.utils.data.DataLoader(amazon_validation_data, batch_size = BATCH_SIZE, num_workers = 4)\n",
        "test_loader = torch.utils.data.DataLoader(amazon_test_data, batch_size = BATCH_SIZE, num_workers = 4)'''"
      ]
    },
    {
      "cell_type": "code",
      "execution_count": 23,
      "metadata": {
        "colab": {
          "base_uri": "https://localhost:8080/"
        },
        "id": "_bw8b14mzjXE",
        "outputId": "b018a3ff-56b7-475f-8cb3-f3b1f903bf68"
      },
      "outputs": [
        {
          "data": {
            "text/plain": [
              "RNN(\n",
              "  (embedding): Embedding(20002, 128)\n",
              "  (rnn): LSTM(128, 256)\n",
              "  (fc): Linear(in_features=256, out_features=2, bias=True)\n",
              ")"
            ]
          },
          "execution_count": 23,
          "metadata": {},
          "output_type": "execute_result"
        }
      ],
      "source": [
        "file_name = 'SentimentAnalysisLSTM.pth'\n",
        "pth_file_path = os.path.join(path, file_name)\n",
        "pretrained_model = RNN(input_dim = len(TEXT.vocab), embedding_dim = EMBEDDING_DIM,\n",
        "            hidden_dim = HIDDEN_DIM, output_dim = NUM_CLASSES)\n",
        "pretrained_model.load_state_dict(torch.load(pth_file_path))\n",
        "pretrained_model.to(DEVICE)"
      ]
    },
    {
      "cell_type": "markdown",
      "metadata": {
        "id": "aKxD3SYN0CMS"
      },
      "source": [
        "Freezing the pre trained layers and evaluating the pretrained model on the new dataset"
      ]
    },
    {
      "cell_type": "code",
      "execution_count": 24,
      "metadata": {
        "id": "HPeT79rm0Fxx"
      },
      "outputs": [],
      "source": [
        "for param in pretrained_model.parameters():\n",
        "    param.requires_grad = False"
      ]
    },
    {
      "cell_type": "code",
      "execution_count": 70,
      "metadata": {
        "colab": {
          "base_uri": "https://localhost:8080/"
        },
        "id": "l951szqkXDDN",
        "outputId": "55d7e8a2-6278-43d6-d5b6-675c1e426749"
      },
      "outputs": [
        {
          "name": "stdout",
          "output_type": "stream",
          "text": [
            "Test accuracy: 51.67%\n"
          ]
        }
      ],
      "source": [
        "print(f'Test accuracy: {compute_accuracy(pretrained_model, test_loader, DEVICE):.2f}%')"
      ]
    },
    {
      "cell_type": "code",
      "execution_count": 12,
      "metadata": {
        "id": "VrTftdyy2pEh"
      },
      "outputs": [],
      "source": [
        "class PretrainedRNN(torch.nn.Module):\n",
        "    def __init__(self, pretrained_model, num_layers_to_add):\n",
        "        super().__init__()\n",
        "        self.pretrained_model = pretrained_model\n",
        "        self.num_layers_to_add = num_layers_to_add\n",
        "\n",
        "        # Freeze the parameters of the pretrained model\n",
        "        for param in self.pretrained_model.parameters():\n",
        "            param.requires_grad = False\n",
        "\n",
        "        # Add additional LSTM layers\n",
        "        self.additional_layers = torch.nn.ModuleList([\n",
        "            torch.nn.LSTM(pretrained_model.rnn.hidden_size, pretrained_model.rnn.hidden_size)\n",
        "            for _ in range(num_layers_to_add)\n",
        "        ])\n",
        "\n",
        "    def forward(self, text):\n",
        "        embedded = self.pretrained_model.embedding(text)\n",
        "        output, (hidden, cell) = self.pretrained_model.rnn(embedded)\n",
        "\n",
        "        # Pass through additional LSTM layers\n",
        "        for layer in self.additional_layers:\n",
        "            output, (hidden, cell) = layer(output)\n",
        "\n",
        "        hidden.squeeze_(0)\n",
        "        output = self.pretrained_model.fc(hidden)\n",
        "\n",
        "        return output"
      ]
    },
    {
      "cell_type": "code",
      "execution_count": 56,
      "metadata": {
        "colab": {
          "base_uri": "https://localhost:8080/"
        },
        "id": "dVsizdiu2x26",
        "outputId": "870caf9e-9b14-4320-9667-92dcf7d9ee5b"
      },
      "outputs": [
        {
          "data": {
            "text/plain": [
              "PretrainedRNN(\n",
              "  (pretrained_model): RNN(\n",
              "    (embedding): Embedding(20002, 128)\n",
              "    (rnn): LSTM(128, 256)\n",
              "    (fc): Linear(in_features=256, out_features=2, bias=True)\n",
              "  )\n",
              "  (additional_layers): ModuleList(\n",
              "    (0-1): 2 x LSTM(256, 256)\n",
              "  )\n",
              ")"
            ]
          },
          "execution_count": 56,
          "metadata": {},
          "output_type": "execute_result"
        }
      ],
      "source": [
        "ext_model = PretrainedRNN(pretrained_model, num_layers_to_add=2)\n",
        "ext_model.to(DEVICE)"
      ]
    },
    {
      "cell_type": "code",
      "execution_count": null,
      "metadata": {
        "id": "RGkL8Do329hP"
      },
      "outputs": [],
      "source": [
        "optimizer = torch.optim.Adam(ext_model.parameters(), lr = LEARNING_RATE)"
      ]
    },
    {
      "cell_type": "code",
      "execution_count": 26,
      "metadata": {
        "colab": {
          "base_uri": "https://localhost:8080/"
        },
        "id": "hzjvA1jl21yT",
        "outputId": "b0776f85-0807-4d69-d269-48fc5e1a06c8"
      },
      "outputs": [
        {
          "name": "stdout",
          "output_type": "stream",
          "text": [
            "Epoch: 001/015 | Batch 000/274 | Loss: 0.6925\n",
            "Epoch: 001/015 | Batch 050/274 | Loss: 0.6974\n",
            "Epoch: 001/015 | Batch 100/274 | Loss: 0.6814\n",
            "Epoch: 001/015 | Batch 150/274 | Loss: 0.6921\n",
            "Epoch: 001/015 | Batch 200/274 | Loss: 0.6900\n",
            "Epoch: 001/015 | Batch 250/274 | Loss: 0.6893\n",
            "Training accuracy: 52.69%\n",
            "Validation accuracy: 51.21%\n",
            "Time elapsed: 6.67 min\n",
            "Epoch: 002/015 | Batch 000/274 | Loss: 0.6965\n",
            "Epoch: 002/015 | Batch 050/274 | Loss: 0.6867\n",
            "Epoch: 002/015 | Batch 100/274 | Loss: 0.6943\n",
            "Epoch: 002/015 | Batch 150/274 | Loss: 0.6944\n",
            "Epoch: 002/015 | Batch 200/274 | Loss: 0.6847\n",
            "Epoch: 002/015 | Batch 250/274 | Loss: 0.6938\n",
            "Training accuracy: 53.04%\n",
            "Validation accuracy: 49.76%\n",
            "Time elapsed: 13.32 min\n",
            "Epoch: 003/015 | Batch 000/274 | Loss: 0.6651\n",
            "Epoch: 003/015 | Batch 050/274 | Loss: 0.6815\n",
            "Epoch: 003/015 | Batch 100/274 | Loss: 0.7039\n",
            "Epoch: 003/015 | Batch 150/274 | Loss: 0.6871\n",
            "Epoch: 003/015 | Batch 200/274 | Loss: 0.6929\n",
            "Epoch: 003/015 | Batch 250/274 | Loss: 0.6847\n",
            "Training accuracy: 53.51%\n",
            "Validation accuracy: 51.93%\n",
            "Time elapsed: 19.89 min\n",
            "Epoch: 004/015 | Batch 000/274 | Loss: 0.6998\n",
            "Epoch: 004/015 | Batch 050/274 | Loss: 0.6938\n",
            "Epoch: 004/015 | Batch 100/274 | Loss: 0.6762\n",
            "Epoch: 004/015 | Batch 150/274 | Loss: 0.6841\n",
            "Epoch: 004/015 | Batch 200/274 | Loss: 0.6757\n",
            "Epoch: 004/015 | Batch 250/274 | Loss: 0.6804\n",
            "Training accuracy: 53.75%\n",
            "Validation accuracy: 51.21%\n",
            "Time elapsed: 26.60 min\n",
            "Epoch: 005/015 | Batch 000/274 | Loss: 0.6952\n",
            "Epoch: 005/015 | Batch 050/274 | Loss: 0.6898\n",
            "Epoch: 005/015 | Batch 100/274 | Loss: 0.6914\n",
            "Epoch: 005/015 | Batch 150/274 | Loss: 0.6731\n",
            "Epoch: 005/015 | Batch 200/274 | Loss: 0.6838\n",
            "Epoch: 005/015 | Batch 250/274 | Loss: 0.6769\n",
            "Training accuracy: 53.09%\n",
            "Validation accuracy: 50.36%\n",
            "Time elapsed: 33.32 min\n",
            "Epoch: 006/015 | Batch 000/274 | Loss: 0.6887\n",
            "Epoch: 006/015 | Batch 050/274 | Loss: 0.6952\n",
            "Epoch: 006/015 | Batch 100/274 | Loss: 0.6885\n",
            "Epoch: 006/015 | Batch 150/274 | Loss: 0.7178\n",
            "Epoch: 006/015 | Batch 200/274 | Loss: 0.6974\n",
            "Epoch: 006/015 | Batch 250/274 | Loss: 0.6858\n",
            "Training accuracy: 53.17%\n",
            "Validation accuracy: 51.07%\n",
            "Time elapsed: 40.04 min\n",
            "Epoch: 007/015 | Batch 000/274 | Loss: 0.6871\n",
            "Epoch: 007/015 | Batch 050/274 | Loss: 0.6816\n",
            "Epoch: 007/015 | Batch 100/274 | Loss: 0.6891\n",
            "Epoch: 007/015 | Batch 150/274 | Loss: 0.6859\n",
            "Epoch: 007/015 | Batch 200/274 | Loss: 0.6749\n",
            "Epoch: 007/015 | Batch 250/274 | Loss: 1.3703\n",
            "Training accuracy: 49.16%\n",
            "Validation accuracy: 50.89%\n",
            "Time elapsed: 46.55 min\n",
            "Epoch: 008/015 | Batch 000/274 | Loss: 0.6932\n",
            "Epoch: 008/015 | Batch 050/274 | Loss: 0.6888\n",
            "Epoch: 008/015 | Batch 100/274 | Loss: 0.6861\n",
            "Epoch: 008/015 | Batch 150/274 | Loss: 0.6963\n",
            "Epoch: 008/015 | Batch 200/274 | Loss: 0.6943\n",
            "Epoch: 008/015 | Batch 250/274 | Loss: 0.6841\n",
            "Training accuracy: 57.48%\n",
            "Validation accuracy: 55.22%\n",
            "Time elapsed: 53.31 min\n",
            "Epoch: 009/015 | Batch 000/274 | Loss: 0.6782\n",
            "Epoch: 009/015 | Batch 050/274 | Loss: 0.6939\n",
            "Epoch: 009/015 | Batch 100/274 | Loss: 0.6881\n",
            "Epoch: 009/015 | Batch 150/274 | Loss: 0.6934\n",
            "Epoch: 009/015 | Batch 200/274 | Loss: 0.6860\n",
            "Epoch: 009/015 | Batch 250/274 | Loss: 0.6798\n",
            "Training accuracy: 60.92%\n",
            "Validation accuracy: 58.31%\n",
            "Time elapsed: 60.02 min\n",
            "Epoch: 010/015 | Batch 000/274 | Loss: 0.6717\n",
            "Epoch: 010/015 | Batch 050/274 | Loss: 0.6925\n",
            "Epoch: 010/015 | Batch 100/274 | Loss: 0.6671\n",
            "Epoch: 010/015 | Batch 150/274 | Loss: 0.6673\n",
            "Epoch: 010/015 | Batch 200/274 | Loss: 0.6549\n",
            "Epoch: 010/015 | Batch 250/274 | Loss: 0.6478\n",
            "Training accuracy: 62.52%\n",
            "Validation accuracy: 58.98%\n",
            "Time elapsed: 66.74 min\n",
            "Epoch: 011/015 | Batch 000/274 | Loss: 0.6555\n",
            "Epoch: 011/015 | Batch 050/274 | Loss: 0.6392\n",
            "Epoch: 011/015 | Batch 100/274 | Loss: 0.6576\n",
            "Epoch: 011/015 | Batch 150/274 | Loss: 0.6415\n",
            "Epoch: 011/015 | Batch 200/274 | Loss: 0.6606\n",
            "Epoch: 011/015 | Batch 250/274 | Loss: 0.6333\n",
            "Training accuracy: 61.73%\n",
            "Validation accuracy: 59.23%\n",
            "Time elapsed: 73.27 min\n",
            "Epoch: 012/015 | Batch 000/274 | Loss: 0.6355\n",
            "Epoch: 012/015 | Batch 050/274 | Loss: 0.6349\n",
            "Epoch: 012/015 | Batch 100/274 | Loss: 0.6631\n",
            "Epoch: 012/015 | Batch 150/274 | Loss: 0.6531\n",
            "Epoch: 012/015 | Batch 200/274 | Loss: 0.6324\n",
            "Epoch: 012/015 | Batch 250/274 | Loss: 0.6481\n",
            "Training accuracy: 68.93%\n",
            "Validation accuracy: 64.87%\n",
            "Time elapsed: 79.97 min\n",
            "Epoch: 013/015 | Batch 000/274 | Loss: 0.5963\n",
            "Epoch: 013/015 | Batch 050/274 | Loss: 0.5761\n",
            "Epoch: 013/015 | Batch 100/274 | Loss: 0.6232\n",
            "Epoch: 013/015 | Batch 150/274 | Loss: 0.6258\n",
            "Epoch: 013/015 | Batch 200/274 | Loss: 0.6702\n",
            "Epoch: 013/015 | Batch 250/274 | Loss: 0.6190\n",
            "Training accuracy: 71.88%\n",
            "Validation accuracy: 66.11%\n",
            "Time elapsed: 86.62 min\n",
            "Epoch: 014/015 | Batch 000/274 | Loss: 0.6480\n",
            "Epoch: 014/015 | Batch 050/274 | Loss: 0.5488\n",
            "Epoch: 014/015 | Batch 100/274 | Loss: 0.5819\n",
            "Epoch: 014/015 | Batch 150/274 | Loss: 0.6315\n",
            "Epoch: 014/015 | Batch 200/274 | Loss: 0.5743\n",
            "Epoch: 014/015 | Batch 250/274 | Loss: 0.6082\n",
            "Training accuracy: 74.31%\n",
            "Validation accuracy: 67.28%\n",
            "Time elapsed: 95.72 min\n",
            "Epoch: 015/015 | Batch 000/274 | Loss: 0.5760\n",
            "Epoch: 015/015 | Batch 050/274 | Loss: 0.5436\n",
            "Epoch: 015/015 | Batch 100/274 | Loss: 0.4868\n",
            "Epoch: 015/015 | Batch 150/274 | Loss: 0.4921\n",
            "Epoch: 015/015 | Batch 200/274 | Loss: 0.5154\n",
            "Epoch: 015/015 | Batch 250/274 | Loss: 0.5635\n",
            "Training accuracy: 76.41%\n",
            "Validation accuracy: 68.04%\n",
            "Time elapsed: 104.16 min\n",
            "Total Training Time: 104.16 min\n",
            "Test accuracy: 67.69%\n"
          ]
        }
      ],
      "source": [
        "trainer(ext_model, NUM_EPOCHS, DEVICE, train_loader, validation_loader, test_loader,\n",
        "        optimizer)"
      ]
    },
    {
      "cell_type": "markdown",
      "metadata": {},
      "source": [
        "Saving the new model. Loading the new model below to avoid future training again"
      ]
    },
    {
      "cell_type": "code",
      "execution_count": 28,
      "metadata": {},
      "outputs": [
        {
          "name": "stdout",
          "output_type": "stream",
          "text": [
            "Model saved successfully.\n"
          ]
        }
      ],
      "source": [
        "file_path = 'AmazonReviewLSTM.pth'\n",
        "torch.save(ext_model.state_dict(), file_path)\n",
        "print(\"Model saved successfully.\")"
      ]
    },
    {
      "cell_type": "code",
      "execution_count": 26,
      "metadata": {},
      "outputs": [
        {
          "data": {
            "text/plain": [
              "PretrainedRNN(\n",
              "  (pretrained_model): RNN(\n",
              "    (embedding): Embedding(20002, 128)\n",
              "    (rnn): LSTM(128, 256)\n",
              "    (fc): Linear(in_features=256, out_features=2, bias=True)\n",
              "  )\n",
              "  (additional_layers): ModuleList(\n",
              "    (0-1): 2 x LSTM(256, 256)\n",
              "  )\n",
              ")"
            ]
          },
          "execution_count": 26,
          "metadata": {},
          "output_type": "execute_result"
        }
      ],
      "source": [
        "file_name = 'AmazonReviewLSTM.pth'\n",
        "pth_file_path = os.path.join(path, file_name)\n",
        "pretrained_model = PretrainedRNN(pretrained_model, 2)\n",
        "pretrained_model.load_state_dict(torch.load(pth_file_path))\n",
        "pretrained_model.to(DEVICE)"
      ]
    },
    {
      "cell_type": "code",
      "execution_count": 27,
      "metadata": {},
      "outputs": [],
      "source": [
        "for param in pretrained_model.parameters():\n",
        "    param.requires_grad = False"
      ]
    },
    {
      "cell_type": "markdown",
      "metadata": {},
      "source": [
        "Evaluating and predicting with the new model"
      ]
    },
    {
      "cell_type": "code",
      "execution_count": 31,
      "metadata": {},
      "outputs": [
        {
          "name": "stdout",
          "output_type": "stream",
          "text": [
            "Mixed feelings about this. \n",
            "Probability positive:  0.25 \n",
            "Probability Negative 0.75 \n",
            "\n",
            "Genuinely impressed! Everything was perfect! \n",
            "Probability positive:  0.18 \n",
            "Probability Negative 0.82 \n",
            "\n",
            "I didn't like a single second of this movie. \n",
            "Probability positive:  0.74 \n",
            "Probability Negative 0.26 \n",
            "\n",
            "This movie bangs! It's awesome! \n",
            "Probability positive:  0.25 \n",
            "Probability Negative 0.75 \n",
            "\n"
          ]
        }
      ],
      "source": [
        "test_reviews = [\"Mixed feelings about this.\",\n",
        "                \"Genuinely impressed! Everything was perfect!\",\n",
        "                \"I didn't like a single second of this movie.\",\n",
        "                \"This movie bangs! It's awesome!\"]\n",
        "\n",
        "for idx, review in enumerate(test_reviews):\n",
        "  pred = predict_sentiment(pretrained_model, review)\n",
        "  print(review,  \"\\nProbability positive: \" , f\"{1 - pred:.2f}\",\n",
        "        \"\\nProbability Negative\" , f\"{pred:.2f}\", \"\\n\")"
      ]
    },
    {
      "cell_type": "code",
      "execution_count": 73,
      "metadata": {},
      "outputs": [
        {
          "name": "stdout",
          "output_type": "stream",
          "text": [
            "Test accuracy: 67.69%\n"
          ]
        }
      ],
      "source": [
        "print(f'Test accuracy: {compute_accuracy(pretrained_model, test_loader, DEVICE):.2f}%')"
      ]
    }
  ],
  "metadata": {
    "accelerator": "GPU",
    "colab": {
      "gpuType": "T4",
      "provenance": []
    },
    "kernelspec": {
      "display_name": "Python 3",
      "name": "python3"
    },
    "language_info": {
      "codemirror_mode": {
        "name": "ipython",
        "version": 3
      },
      "file_extension": ".py",
      "mimetype": "text/x-python",
      "name": "python",
      "nbconvert_exporter": "python",
      "pygments_lexer": "ipython3",
      "version": "3.11.1"
    }
  },
  "nbformat": 4,
  "nbformat_minor": 0
}
